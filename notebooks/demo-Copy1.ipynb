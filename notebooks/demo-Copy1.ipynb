{
 "cells": [
  {
   "cell_type": "code",
   "execution_count": 1,
   "metadata": {
    "ExecuteTime": {
     "end_time": "2023-09-09T11:22:14.251038Z",
     "start_time": "2023-09-09T11:22:13.838031Z"
    }
   },
   "outputs": [],
   "source": [
    "import json\n",
    "import openai\n",
    "import nest_asyncio\n",
    "from typing import Dict\n",
    "from pathlib import Path\n",
    "from instructor import patch\n",
    "from pydantic import BaseModel, Field\n",
    "from pydantic.json import pydantic_encoder\n",
    "patch()\n",
    "nest_asyncio.apply()"
   ]
  },
  {
   "cell_type": "code",
   "execution_count": 2,
   "metadata": {
    "ExecuteTime": {
     "end_time": "2023-09-09T11:22:15.270465Z",
     "start_time": "2023-09-09T11:22:15.267418Z"
    }
   },
   "outputs": [],
   "source": [
    "story_name = 'one-day-prisoner'\n",
    "story_path = Path('../prompts/stories')\n",
    "result_path = Path('../results')\n",
    "instruction_path = Path('../prompts/instructions')"
   ]
  },
  {
   "cell_type": "code",
   "execution_count": 3,
   "metadata": {
    "ExecuteTime": {
     "end_time": "2023-09-09T11:22:15.756362Z",
     "start_time": "2023-09-09T11:22:15.753995Z"
    }
   },
   "outputs": [],
   "source": [
    "model_name = 'gpt-3.5-turbo-16k'\n",
    "max_tokens = 2048\n",
    "stop = None\n",
    "temperature = 0.5\n",
    "language = 'Chinese'"
   ]
  },
  {
   "cell_type": "code",
   "execution_count": 4,
   "metadata": {
    "ExecuteTime": {
     "end_time": "2023-09-09T11:22:16.144955Z",
     "start_time": "2023-09-09T11:22:16.141877Z"
    }
   },
   "outputs": [],
   "source": [
    "story_path = story_path / f'{story_name}.txt'\n",
    "character_prompt_path = instruction_path / 'character.txt'\n",
    "storyboard_prompt_path = instruction_path / 'storyboard.txt'\n",
    "character_result_path = result_path / f'{story_name}_character.txt'\n",
    "storyboard_result_path = result_path / f'{story_name}_storyboard.txt'"
   ]
  },
  {
   "cell_type": "code",
   "execution_count": 5,
   "metadata": {
    "ExecuteTime": {
     "end_time": "2023-09-09T11:22:17.277283Z",
     "start_time": "2023-09-09T11:22:17.273943Z"
    }
   },
   "outputs": [],
   "source": [
    "def load_text(file_path):\n",
    "    with open(file_path, 'r') as file:\n",
    "        return file.read()\n",
    "\n",
    "def save_text(response, output_file):\n",
    "    with open(output_file, 'w') as file:\n",
    "        file.write(response + '\\n')"
   ]
  },
  {
   "cell_type": "code",
   "execution_count": 6,
   "metadata": {
    "ExecuteTime": {
     "end_time": "2023-09-09T11:22:18.365436Z",
     "start_time": "2023-09-09T11:22:18.361729Z"
    }
   },
   "outputs": [],
   "source": [
    "def call_openai_api(history, \n",
    "                    content,\n",
    "                    model_name: str='gpt-3.5-turbo-16k',\n",
    "                    max_tokens: int=2048,\n",
    "                    stop: str=None,\n",
    "                    temperature: float=0.5):\n",
    "    \n",
    "    history.append({'role': 'user', \n",
    "                    'content': content})\n",
    "    \n",
    "    response = openai.ChatCompletion.create(\n",
    "        model=model_name,\n",
    "        messages=history,\n",
    "        max_tokens=max_tokens,\n",
    "        stop=stop,\n",
    "        temperature=temperature,\n",
    "    )\n",
    "    \n",
    "    return response.choices[0]['message']['content'].strip()"
   ]
  },
  {
   "cell_type": "code",
   "execution_count": 7,
   "metadata": {
    "ExecuteTime": {
     "end_time": "2023-09-09T11:22:18.774603Z",
     "start_time": "2023-09-09T11:22:18.771420Z"
    }
   },
   "outputs": [],
   "source": [
    "def split_into_chunks(text, tokens=500):\n",
    "    chunks = []\n",
    "    \n",
    "    for i in range(0, len(text), tokens):\n",
    "        chunks.append(text[i:i + tokens])\n",
    "        \n",
    "    return chunks"
   ]
  },
  {
   "cell_type": "code",
   "execution_count": 8,
   "metadata": {
    "ExecuteTime": {
     "end_time": "2023-09-09T11:22:20.539923Z",
     "start_time": "2023-09-09T11:22:20.533967Z"
    }
   },
   "outputs": [],
   "source": [
    "def process_story(story_path, \n",
    "                  character_prompt_path,\n",
    "                  storyboard_prompt_path,\n",
    "                  model_name: str='gpt-3.5-turbo-16k',\n",
    "                  max_tokens: int=4096,\n",
    "                  stop: str=None,\n",
    "                  temperature: float=0.5,\n",
    "                  language: str='Chinese'):\n",
    "    \n",
    "    story = load_text(story_path)\n",
    "    chunks = split_into_chunks(story)\n",
    "    \n",
    "    # Initialize the conversation history\n",
    "    history = [{'role': 'system', \n",
    "                'content': 'You are a helpful assistant.'},\n",
    "               {'role': 'system',\n",
    "                'content': 'Below is the long text provided by the user.'}]\n",
    "    \n",
    "    if language != 'English':\n",
    "        history.append({'role': 'system',\n",
    "                        'content': f'Please translate all your response in {language}'})\n",
    "    \n",
    "    # Add each chunk as a user message to history\n",
    "    for chunk in chunks:\n",
    "        history.append({'role': 'user', \n",
    "                        'content': chunk})\n",
    "\n",
    "    character_prompt = load_text(character_prompt_path)\n",
    "    storyboard_prompt = load_text(storyboard_prompt_path)\n",
    "    \n",
    "    print('The model is getting the summary.')\n",
    "    \n",
    "    # Task 1: Summarize characters\n",
    "    character_summary = call_openai_api(history, character_prompt, model_name, \n",
    "                                        max_tokens, stop, temperature)\n",
    "    \n",
    "    # Update the history to include the character summary\n",
    "    history.append({'role': 'assistant', \n",
    "                    'content': character_summary})\n",
    "    \n",
    "    print('The model is getting the storyboard script.')\n",
    "    \n",
    "    # Task 2: Generate storyboard script\n",
    "    storyboard_script = call_openai_api(history, storyboard_prompt, model_name, \n",
    "                                        max_tokens, stop, temperature)\n",
    "    \n",
    "    # Save to output file\n",
    "    return character_summary, storyboard_script"
   ]
  },
  {
   "cell_type": "code",
   "execution_count": 135,
   "metadata": {
    "ExecuteTime": {
     "end_time": "2023-09-06T12:46:44.655924Z",
     "start_time": "2023-09-06T12:44:56.459479Z"
    }
   },
   "outputs": [
    {
     "name": "stdout",
     "output_type": "stream",
     "text": [
      "The model is getting the summary.\n",
      "The model is getting the storyboard script.\n"
     ]
    }
   ],
   "source": [
    "character_summary, storyboard_script = process_story(story_path, \n",
    "                                                     character_prompt_path,\n",
    "                                                     storyboard_prompt_path,\n",
    "                                                     model_name,\n",
    "                                                     max_tokens,\n",
    "                                                     stop, \n",
    "                                                     temperature,\n",
    "                                                     language)"
   ]
  },
  {
   "cell_type": "code",
   "execution_count": 130,
   "metadata": {
    "ExecuteTime": {
     "end_time": "2023-09-06T12:31:33.242635Z",
     "start_time": "2023-09-06T12:29:27.185363Z"
    }
   },
   "outputs": [
    {
     "name": "stdout",
     "output_type": "stream",
     "text": [
      "The model is getting the summary.\n",
      "The model is getting the storyboard script.\n"
     ]
    }
   ],
   "source": [
    "character_summary, storyboard_script = process_story(story_path, \n",
    "                                                     character_prompt_path,\n",
    "                                                     storyboard_prompt_path,\n",
    "                                                     model_name,\n",
    "                                                     max_tokens,\n",
    "                                                     stop, \n",
    "                                                     temperature,\n",
    "                                                     language)"
   ]
  },
  {
   "cell_type": "code",
   "execution_count": 138,
   "metadata": {
    "ExecuteTime": {
     "end_time": "2023-09-06T12:48:21.308197Z",
     "start_time": "2023-09-06T12:48:21.304183Z"
    }
   },
   "outputs": [],
   "source": [
    "save_text(storyboard_script, storyboard_result_path)\n",
    "save_text(character_summary, character_result_path)"
   ]
  },
  {
   "cell_type": "code",
   "execution_count": 137,
   "metadata": {
    "ExecuteTime": {
     "end_time": "2023-09-06T12:47:47.968949Z",
     "start_time": "2023-09-06T12:47:47.965987Z"
    }
   },
   "outputs": [
    {
     "name": "stdout",
     "output_type": "stream",
     "text": [
      "{\n",
      "  'B先生': {\n",
      "    'Name': 'B先生',\n",
      "    'High-Level Synopsis': 'B先生是一个被困在时间循环中的人，每天都重复着同样的一天。他的存在对于故事的发展和主题非常重要，引发了关于时间、困境和自我意识的思考。',\n",
      "    'Appearance and Attire': {\n",
      "      'Physical Features': '苍白而腼腆的面容，戴眼镜，光头',\n",
      "      'Clothing': '黑衣'\n",
      "    },\n",
      "    'Psychological Profile': 'B先生表现出腼腆、愁苦、渴望和绝望的情绪。他在困境中经历了情绪的起伏，从最初的好奇和探索，到后来的愤怒、绝望和疯狂。',\n",
      "    'Socio-Cultural Context': '没有提供足够的信息',\n",
      "    'Relationships': {\n",
      "      '管理员': '与管理员有几次互动，管理员成为他唯一的交流对象'\n",
      "    },\n",
      "    'Key Moments': {\n",
      "      '租房': 'B先生租下了一间小套房，开始了他的时间囚徒生活',\n",
      "      '循环突破尝试': 'B先生试图打破时间循环，进行了一系列实验和行动，包括故意改变行为和观察他人的反应',\n",
      "      '心灵的思考': 'B先生在困境中开始思考时间和自我意识的问题，对自己的存在和世界的本质有了更深层次的思考'\n",
      "    },\n",
      "    'Additional Nuances': {\n",
      "      '时间囚徒': 'B先生被困在时间循环中，每天重复着同样的一天，他的存在和行为受到时间的限制和影响'\n",
      "    }\n",
      "  },\n",
      "  '管理员': {\n",
      "    'Name': '管理员',\n",
      "    'High-Level Synopsis': '管理员是大楼里的管理人员，成为B先生唯一的交流对象。他在B先生的困境中起到了观察者和支持者的角色。',\n",
      "    'Appearance and Attire': {\n",
      "      'Physical Features': '没有提供足够的信息',\n",
      "      'Clothing': '没有提供足够的信息'\n",
      "    },\n",
      "    'Psychological Profile': '管理员表现出关心和好奇的态度，对B先生的行为和困境感到惊讶和疑惑。',\n",
      "    'Socio-Cultural Context': '没有提供足够的信息',\n",
      "    'Relationships': {\n",
      "      'B先生': '管理员成为B先生唯一的交流对象，他们之间建立了一种特殊的关系'\n",
      "    },\n",
      "    'Key Moments': {\n",
      "      '租房': '管理员帮助B先生租下了房间，并成为他的主要接触人',\n",
      "      '循环突破尝试': '管理员观察和支持B先生的循环突破尝试，提供了一些帮助和理解'\n",
      "    },\n",
      "    'Additional Nuances': {}\n",
      "  }\n",
      "}\n"
     ]
    }
   ],
   "source": [
    "print(character_summary)"
   ]
  },
  {
   "cell_type": "code",
   "execution_count": 136,
   "metadata": {
    "ExecuteTime": {
     "end_time": "2023-09-06T12:47:25.683848Z",
     "start_time": "2023-09-06T12:47:25.680883Z"
    }
   },
   "outputs": [
    {
     "name": "stdout",
     "output_type": "stream",
     "text": [
      "{\n",
      "  'Scene 1': {\n",
      "    'Text-to-Image Prompt': 'B先生租下小套房，黑衣男子陪同，管理员办理手续。',\n",
      "    'Camera Angle': 'Wide shot',\n",
      "    'Environment': 'Interior of the building, a small room with minimal furniture',\n",
      "    'Characters Present': 'B先生, 黑衣男子, 管理员',\n",
      "    'Visual Design': 'Dimly lit room, sparse furniture, a desk with paperwork',\n",
      "    'Dialogue': 'B先生: \"我想租一间不带家具的房子。\" 管理员: \"请填写这份租约。\"',\n",
      "    'Sound Elements': 'Subtle background music, low volume',\n",
      "    'Emotional Atmosphere': 'Tense, mysterious'\n",
      "  },\n",
      "  'Scene 2': {\n",
      "    'Text-to-Image Prompt': 'B先生抱怨房子的视野狭窄。',\n",
      "    'Camera Angle': 'Medium shot',\n",
      "    'Environment': 'Interior of the small room',\n",
      "    'Characters Present': 'B先生, 黑衣男子',\n",
      "    'Visual Design': 'Foldable canvas wardrobe, inflatable mattress, limited space',\n",
      "    'Dialogue': 'B先生: \"房子的视野太狭窄了。\" 黑衣男子: \"这是你们最短的租期吗？\"',\n",
      "    'Sound Elements': 'Silence',\n",
      "    'Emotional Atmosphere': 'Uneasy, claustrophobic'\n",
      "  },\n",
      "  'Scene 3': {\n",
      "    'Text-to-Image Prompt': 'B先生对管理员表示感谢，并请他离开。',\n",
      "    'Camera Angle': 'Close-up',\n",
      "    'Environment': 'Interior of the small room',\n",
      "    'Characters Present': 'B先生, 管理员',\n",
      "    'Visual Design': 'B先生's gratitude expressed through facial expressions',\n",
      "    'Dialogue': 'B先生: \"谢谢你。请让我休息吧。\" 管理员: \"好的，祝您住得愉快。\"',\n",
      "    'Sound Elements': 'Subtle background music, low volume',\n",
      "    'Emotional Atmosphere': 'Grateful, somber'\n",
      "  },\n",
      "  'Scene 4': {\n",
      "    'Text-to-Image Prompt': 'B先生死后，黑衣男子和医生进入房间。',\n",
      "    'Camera Angle': 'Wide shot',\n",
      "    'Environment': 'Interior of the small room',\n",
      "    'Characters Present': '黑衣男子, 医生',\n",
      "    'Visual Design': 'Lifeless body of B先生 lying on the floor',\n",
      "    'Dialogue': '医生: \"他死了。\" 黑衣男子: \"我们需要搬走他的尸体。\"',\n",
      "    'Sound Elements': 'Eerie silence',\n",
      "    'Emotional Atmosphere': 'Shock, somber'\n",
      "  },\n",
      "  'Scene 5': {\n",
      "    'Text-to-Image Prompt': '管理员质疑黑衣男子关于B先生的死的情况。',\n",
      "    'Camera Angle': 'Medium shot',\n",
      "    'Environment': 'Interior of the small room',\n",
      "    'Characters Present': '管理员, 黑衣男子',\n",
      "    'Visual Design': 'Administrator's suspicious expression',\n",
      "    'Dialogue': '管理员: \"你们是怎么知道他已经死了的？\" 黑衣男子: \"不必报警。\"',\n",
      "    'Sound Elements': 'Tense background music',\n",
      "    'Emotional Atmosphere': 'Suspicion, intrigue'\n",
      "  },\n",
      "  'Scene 6': {\n",
      "    'Text-to-Image Prompt': '黑衣男子和医生搜寻房间，整理B先生的物品。',\n",
      "    'Camera Angle': 'Over-the-shoulder shot',\n",
      "    'Environment': 'Interior of the small room',\n",
      "    'Characters Present': '黑衣男子, 医生',\n",
      "    'Visual Design': 'Opening of suitcases, revealing basic furnishings and clothes',\n",
      "    'Dialogue': '医生: \"他的物品都很简单。\" 黑衣男子: \"我们把一切都带走。\"',\n",
      "    'Sound Elements': 'Subtle rustling sounds',\n",
      "    'Emotional Atmosphere': 'Meticulous, secretive'\n",
      "  },\n",
      "  'Scene 7': {\n",
      "    'Text-to-Image Prompt': '管理员站在空荡的房间中，思考B先生的存在。',\n",
      "    'Camera Angle': 'Medium shot',\n",
      "    'Environment': 'Interior of the empty room',\n",
      "    'Characters Present': '管理员',\n",
      "    'Visual Design': 'Empty room with white walls',\n",
      "    'Dialogue': 'None',\n",
      "    'Sound Elements': 'Subtle background music',\n",
      "    'Emotional Atmosphere': 'Pensive, contemplative'\n",
      "  }\n",
      "}\n"
     ]
    }
   ],
   "source": [
    "print(storyboard_script)"
   ]
  },
  {
   "cell_type": "code",
   "execution_count": null,
   "metadata": {},
   "outputs": [],
   "source": []
  },
  {
   "cell_type": "code",
   "execution_count": null,
   "metadata": {},
   "outputs": [],
   "source": []
  },
  {
   "cell_type": "code",
   "execution_count": null,
   "metadata": {},
   "outputs": [],
   "source": []
  },
  {
   "cell_type": "code",
   "execution_count": null,
   "metadata": {},
   "outputs": [],
   "source": []
  },
  {
   "cell_type": "code",
   "execution_count": 89,
   "metadata": {
    "ExecuteTime": {
     "end_time": "2023-09-10T03:36:19.810397Z",
     "start_time": "2023-09-10T03:36:19.807152Z"
    }
   },
   "outputs": [],
   "source": [
    "from langchain.llms import OpenAI\n",
    "from langchain.schema import HumanMessage\n",
    "from langchain.prompts import PromptTemplate\n",
    "from langchain.chat_models import ChatOpenAI\n",
    "from langchain.document_loaders import TextLoader\n",
    "from langchain.chains.summarize import load_summarize_chain\n",
    "from langchain.text_splitter import RecursiveCharacterTextSplitter"
   ]
  },
  {
   "cell_type": "code",
   "execution_count": 90,
   "metadata": {
    "ExecuteTime": {
     "end_time": "2023-09-10T03:36:20.142103Z",
     "start_time": "2023-09-10T03:36:20.136379Z"
    }
   },
   "outputs": [],
   "source": [
    "loader = TextLoader(story_path)\n",
    "doc = loader.load()\n",
    "\n",
    "text_splitter = RecursiveCharacterTextSplitter(chunk_size=1500,\n",
    "                                               chunk_overlap=0)\n",
    "split_docs = text_splitter.split_documents(doc)"
   ]
  },
  {
   "cell_type": "code",
   "execution_count": 221,
   "metadata": {
    "ExecuteTime": {
     "end_time": "2023-09-10T06:36:56.057861Z",
     "start_time": "2023-09-10T06:36:56.054283Z"
    }
   },
   "outputs": [],
   "source": [
    "story_name = 'one-day-prisoner'\n",
    "story_path = Path('../prompts/stories')\n",
    "result_path = Path('../results')\n",
    "instruction_path = Path('../prompts/instructions')\n",
    "\n",
    "story_path = story_path / f'{story_name}.txt'\n",
    "character_prompt_path = instruction_path / 'summary_chain.txt'\n",
    "storyboard_prompt_path = instruction_path / 'storyboard.txt'\n",
    "character_result_path = result_path / f'{story_name}_character.txt'\n",
    "storyboard_result_path = result_path / f'{story_name}_storyboard.txt'"
   ]
  },
  {
   "cell_type": "code",
   "execution_count": 222,
   "metadata": {
    "ExecuteTime": {
     "end_time": "2023-09-10T06:36:56.274465Z",
     "start_time": "2023-09-10T06:36:56.272023Z"
    }
   },
   "outputs": [],
   "source": [
    "language = 'Chinese'"
   ]
  },
  {
   "cell_type": "code",
   "execution_count": 223,
   "metadata": {
    "ExecuteTime": {
     "end_time": "2023-09-10T06:36:56.434059Z",
     "start_time": "2023-09-10T06:36:56.430709Z"
    }
   },
   "outputs": [],
   "source": [
    "character_prompt = load_text(character_prompt_path)\n",
    "storyboard_prompt = load_text(storyboard_prompt_path)"
   ]
  },
  {
   "cell_type": "code",
   "execution_count": 224,
   "metadata": {
    "ExecuteTime": {
     "end_time": "2023-09-10T06:36:56.558122Z",
     "start_time": "2023-09-10T06:36:56.555040Z"
    }
   },
   "outputs": [],
   "source": [
    "refine_character_prompt_path = instruction_path / 'summary_refine.txt'\n",
    "refine_character_prompt = load_text(refine_character_prompt_path)"
   ]
  },
  {
   "cell_type": "code",
   "execution_count": 225,
   "metadata": {
    "ExecuteTime": {
     "end_time": "2023-09-10T06:36:56.746898Z",
     "start_time": "2023-09-10T06:36:56.743822Z"
    }
   },
   "outputs": [],
   "source": [
    "storyboard_map_prompt_path = instruction_path / 'storyboard_map.txt'\n",
    "storyboard_map_prompt = load_text(storyboard_map_prompt_path)"
   ]
  },
  {
   "cell_type": "code",
   "execution_count": null,
   "metadata": {},
   "outputs": [],
   "source": []
  },
  {
   "cell_type": "code",
   "execution_count": 95,
   "metadata": {
    "ExecuteTime": {
     "end_time": "2023-09-10T03:36:21.733158Z",
     "start_time": "2023-09-10T03:36:21.729321Z"
    }
   },
   "outputs": [
    {
     "data": {
      "text/plain": [
       "'gpt-3.5-turbo-16k'"
      ]
     },
     "execution_count": 95,
     "metadata": {},
     "output_type": "execute_result"
    }
   ],
   "source": [
    "model_name"
   ]
  },
  {
   "cell_type": "code",
   "execution_count": 96,
   "metadata": {
    "ExecuteTime": {
     "end_time": "2023-09-10T03:36:22.046281Z",
     "start_time": "2023-09-10T03:36:22.043296Z"
    }
   },
   "outputs": [],
   "source": [
    "chat_model = ChatOpenAI(model_name=model_name)"
   ]
  },
  {
   "cell_type": "code",
   "execution_count": 97,
   "metadata": {
    "ExecuteTime": {
     "end_time": "2023-09-10T03:36:22.515795Z",
     "start_time": "2023-09-10T03:36:22.511946Z"
    }
   },
   "outputs": [
    {
     "data": {
      "text/plain": [
       "'Can you provide a detailed and professional summary of the characters and environments of the following:\\n\\n{text}\\n\\nYou summary should be contain a character summary and an environment summary, by the format below:\\n\\n[Character Summary]\\ncharacter_1:\\n- Name: Clearly state the full name of the character, along with any aliases or nicknames used within the narrative.\\n- High-Level Synopsis: Offer an insightful summary encapsulating the character\\'s role, arc, and significance within the storyline.\\n- Appearance and Attire: Describe not just the character\\'s physical features like height, build, and facial characteristics, but also their clothing, attire, and overall style. Be specific about any distinctive or defining aspects.\\n- Psychological Profile: Elaborate on key personality traits, emotional tendencies, and behavioral patterns, also noting any character growth or changes throughout the story.\\n- Socio-Cultural Context: Include information on the character\\'s background, such as ethnicity, culture, and social status, to provide a richer context.\\n- Relationships: Briefly mention significant relationships with other characters, specifying the nature and importance of each.\\n- Key Moments: Highlight a few scenes or actions that are pivotal in defining the character\\'s role in the story.\\n- Additional Nuances: Include any other subtleties like dialect, unique skills, or personal habits that contribute to the character\\'s individuality.\\n\\ncharacter_2:\\n...\\n\\n[Environment Summary]\\nenvironment_1:\\n- Name: Briefly state the name of the environment or place, for example, \"Downtown Diner\", or a room.\\n- Description: Clearly state what the environment looks like, the type of architecture, any significant landmarks, the color schemes, the quality of lighting, any background characters, etc.\\n\\nenvironment_2:\\n...\\n\\nAgain, the summary should look be nicely formatted as above. \\n\\nREMEMBER, ALL THE CHARACTERS AND ENVIRONMENT PRESENT SHOULD BE INCLUDED. While main characters or environments may be elaborated upon in detail, those secondary should also be mentioned, albeit briefly.\\n\\nIf the text doesn\\'t provide information for any of these categories, please make an educated guess, marking it clearly with \"GUESS: \".\\n\\n\\nPlease pay special attention to the narrative perspective. In instances where the story employs first-person or second-person perspectives—indicated by pronouns like \"I\" or \"you\"—take the necessary steps to identify and summarize these less explicitly named characters. Their roles, motivations, and other attributes should be articulated as clearly as possible, even if the original text leaves them somewhat ambiguous.\\n\\nThis summary will serve as the basis for scriptwriting and text-to-image generation, so please be as comprehensive and detailed as possible.\\n\\nRESULT:\\n'"
      ]
     },
     "execution_count": 97,
     "metadata": {},
     "output_type": "execute_result"
    }
   ],
   "source": [
    "character_prompt"
   ]
  },
  {
   "cell_type": "code",
   "execution_count": 98,
   "metadata": {
    "ExecuteTime": {
     "end_time": "2023-09-10T03:36:23.132013Z",
     "start_time": "2023-09-10T03:36:23.129140Z"
    }
   },
   "outputs": [],
   "source": [
    "prompt_template = character_prompt\n",
    "prompt = PromptTemplate.from_template(prompt_template)"
   ]
  },
  {
   "cell_type": "code",
   "execution_count": 99,
   "metadata": {
    "ExecuteTime": {
     "end_time": "2023-09-10T03:41:37.487015Z",
     "start_time": "2023-09-10T03:36:23.464741Z"
    }
   },
   "outputs": [],
   "source": [
    "prompt_template = character_prompt\n",
    "prompt = PromptTemplate.from_template(prompt_template)\n",
    "\n",
    "refine_template = refine_character_prompt\n",
    "refine_prompt = PromptTemplate.from_template(refine_template)\n",
    "\n",
    "chain = load_summarize_chain(\n",
    "    llm=chat_model,\n",
    "    chain_type='refine',\n",
    "    question_prompt=prompt,\n",
    "    refine_prompt=refine_prompt,\n",
    "    return_intermediate_steps=True,\n",
    "    input_key='input_documents',\n",
    "    output_key='output_text',\n",
    ")\n",
    "result = chain({'input_documents': split_docs})"
   ]
  },
  {
   "cell_type": "code",
   "execution_count": 100,
   "metadata": {
    "ExecuteTime": {
     "end_time": "2023-09-10T03:41:37.500764Z",
     "start_time": "2023-09-10T03:41:37.498131Z"
    },
    "collapsed": true
   },
   "outputs": [
    {
     "name": "stdout",
     "output_type": "stream",
     "text": [
      "[Character Summary]\n",
      "Mr. B:\n",
      "- Name: B先生 (Mr. B)\n",
      "- High-Level Synopsis: Mr. B is a mysterious character who moves into a building and dies within 24 hours of his arrival. He requests a small, unfurnished room, which is unusual, and seems to have a sorrowful demeanor. He is observed by the narrator to be energetic and frequently moving around the building. Mr. B's sudden appearance and his peculiar behavior raise suspicion and intrigue.\n",
      "- Appearance and Attire: Mr. B is described as pale, bald, and wearing glasses. He appears frail and weak, giving off an air of melancholy. His appearance fluctuates between looking old and young, and his clothing is sometimes new and sometimes old.\n",
      "- Psychological Profile: Mr. B is depicted as shy, troubled, and somewhat elusive. He exhibits moments of vulnerability and longing, although he quickly reverts to his usual reserved and melancholic demeanor. There are hints at a deeper, mysterious side to his character. His behavior is inconsistent and enigmatic.\n",
      "- Socio-Cultural Context: The text does not provide explicit information about Mr. B's background, ethnicity, or social status. GUESS: Mr. B's background and social context remain unknown.\n",
      "- Relationships: Mr. B interacts briefly with the narrator and the two black-clad men who accompany him on his arrival. The nature of his relationship with these individuals is not explicitly stated. He also interacts with a neighboring widow.\n",
      "- Key Moments: Mr. B's key moments include his sudden appearances and disappearances, his request for a small unfurnished room, his frequent outings, and his mysterious behavior, including instances of crying and changing appearance.\n",
      "- Additional Nuances: The text portrays Mr. B as a potentially supernatural or ghostly figure, with his ability to appear and disappear and his changing appearance.\n",
      "\n",
      "The Narrator:\n",
      "- Name: The narrator remains unnamed.\n",
      "- High-Level Synopsis: The narrator is the building's caretaker who interacts with Mr. B during his short stay in the building. The narrator is initially perplexed by Mr. B's unusual request for a small unfurnished room and is later intrigued by his mysterious behavior. The narrator becomes suspicious when Mr. B dies unexpectedly, leading to questions about the nature of his arrival and his death.\n",
      "- Appearance and Attire: The narrator's physical appearance and attire are not described in the text.\n",
      "- Psychological Profile: The narrator is curious, observant, and concerned about the events surrounding Mr. B's arrival and death. They exhibit moments of surprise and fear when confronted with Mr. B's sudden and strange behavior.\n",
      "- Socio-Cultural Context: The text does not provide explicit information about the narrator's background, ethnicity, or social status. GUESS: The narrator is likely a caretaker or employee of the building, responsible for managing the rental properties.\n",
      "- Relationships: The narrator interacts with Mr. B, the two black-clad men who accompany him on his arrival, and a neighboring widow. The nature of their relationship is professional, with the narrator fulfilling their duties as a caretaker.\n",
      "- Key Moments: The narrator's key moments include their initial encounter with Mr. B, witnessing his peculiar behavior, discovering his lifeless body, and questioning the black-clad men about their knowledge of Mr. B's death.\n",
      "- Additional Nuances: The text does not provide additional nuances about the narrator's character.\n",
      "\n",
      "Black-clad Men:\n",
      "- Name: The text does not provide explicit names for the black-clad men.\n",
      "- High-Level Synopsis: The black-clad men accompany Mr. B on his arrival and are present during his interactions with the narrator. They exhibit a cold and emotionless demeanor, carrying large suitcases filled with makeshift furniture and clothing. They seem to have prior knowledge of Mr. B's death.\n",
      "- Appearance and Attire: The black-clad men are dressed entirely in black clothing, which contributes to their mysterious and somber appearance. No further physical details are provided.\n",
      "- Psychological Profile: The black-clad men appear stoic and detached, showing no surprise or concern when Mr. B is found dead. They possess knowledge about Mr. B's fate that is not shared with the narrator.\n",
      "- Socio-Cultural Context: The text does not provide explicit information about the black-clad men's background, ethnicity, or social status. GUESS: The black-clad men may be associated with a secretive organization or have a specific role in relation to Mr. B's arrival and death.\n",
      "- Relationships: The black-clad men are associated with Mr. B, accompanying him during his arrival and interacting with the narrator. The nature of their relationship is not explicitly stated.\n",
      "- Key Moments: The black-clad men's key moments include their arrival with Mr. B, their interaction with the narrator, and their knowledge of Mr. B's death.\n",
      "- Additional Nuances: The text does not provide additional nuances about the black-clad men's characters.\n",
      "\n",
      "[Environment Summary]\n",
      "Small Unfurnished Room:\n",
      "- Name: Small Unfurnished Room\n",
      "- Description: The small unfurnished room is located on the 16th floor of a large building. It consists of a bedroom, kitchen, and bathroom. The room is described as having a narrow view, which Mr. B finds dissatisfying. The room is initially empty but is later filled with makeshift furniture, including a folding canvas wardrobe and an inflatable mattress. The color scheme and other specific elements of the room are not provided.\n"
     ]
    }
   ],
   "source": [
    "print(result[\"intermediate_steps\"][1])"
   ]
  },
  {
   "cell_type": "code",
   "execution_count": 101,
   "metadata": {
    "ExecuteTime": {
     "end_time": "2023-09-10T03:41:37.516032Z",
     "start_time": "2023-09-10T03:41:37.513095Z"
    },
    "collapsed": true
   },
   "outputs": [
    {
     "name": "stdout",
     "output_type": "stream",
     "text": [
      "[Character Summary]\n",
      "Mr. B:\n",
      "- Name: Mr. B (B先生)\n",
      "- High-Level Synopsis: Mr. B is a mysterious character who possesses supernatural abilities and is trapped in a never-ending time loop, reliving the same 24 hours repeatedly. He longs for the ordinary ignorance possessed by others and feels isolated and hopeless in his perpetual imprisonment. Mr. B exhibits moments of vulnerability and exhibits inconsistent and enigmatic behavior.\n",
      "- Appearance and Attire: Mr. B is described as pale, bald, and wearing glasses. He appears frail and weak, with fluctuating appearances of old and young. His clothing is sometimes new and sometimes old.\n",
      "- Psychological Profile: Mr. B is depicted as shy, troubled, and elusive. He experiences moments of despair and desperation, attempting to escape his fate and understand the supernatural forces at play. He possesses exceptional memory and the ability to manipulate objects.\n",
      "- Socio-Cultural Context: GUESS: Mr. B's background and social context remain unknown. However, his unique abilities and knowledge of advanced technology suggest a special cultural or historical background.\n",
      "- Relationships: Mr. B briefly interacts with the narrator and the two black-clad men who accompany him on his arrival. The nature of his relationship with these individuals is unclear. He also interacts with a neighboring widow. The significance of these relationships is uncertain.\n",
      "- Key Moments: Mr. B's key moments include his sudden appearances and disappearances, his request for a small unfurnished room, his demonstration of exceptional memory and magical abilities, and his revelation of being trapped in a time loop.\n",
      "- Additional Nuances: Mr. B is a potentially supernatural or ghostly figure. His ability to appear and disappear and his changing appearance contribute to this characterization. He may be a wizard or magical being.\n",
      "\n",
      "The Narrator:\n",
      "- Name: The narrator (unnamed)\n",
      "- High-Level Synopsis: The narrator is the building's caretaker who becomes intrigued by Mr. B's mysterious behavior and suspicious when he dies unexpectedly. They embark on a journey to uncover the truth about Mr. B's imprisonment and the supernatural forces surrounding him.\n",
      "- Appearance and Attire: The narrator's physical appearance and attire are not described.\n",
      "- Psychological Profile: The narrator is curious, observant, and concerned about the events surrounding Mr. B. They experience moments of surprise and fear when confronted with Mr. B's strange behavior. The narrator becomes determined to uncover the truth after finding a hidden message left by Mr. B.\n",
      "- Socio-Cultural Context: GUESS: The narrator is likely a caretaker or employee of the building, with a lower socio-economic background and limited access to information about Mr. B.\n",
      "- Relationships: The narrator interacts with Mr. B, the two black-clad men, and a neighboring widow. The nature of their relationships is professional, with the narrator fulfilling their duties as a caretaker. The narrator forms a closer relationship with Mr. B through their interactions and the discovery of the hidden message.\n",
      "- Key Moments: The narrator's key moments include their initial encounter with Mr. B, witnessing his peculiar behavior, discovering his lifeless body, questioning the black-clad men about their knowledge of Mr. B's death, and finding the hidden message.\n",
      "- Additional Nuances: The narrator experiences moments of despair and desperation in their attempts to break free from the time loop. They become resigned to their role as caretaker and find hope in the hidden message left by Mr. B.\n",
      "\n",
      "Black-clad Men:\n",
      "- Name: The black-clad men (unnamed)\n",
      "- High-Level Synopsis: The black-clad men accompany Mr. B on his arrival and exhibit a cold and emotionless demeanor. They possess advanced knowledge of technology and seem to have a connection to Mr. B's fate. Their role in Mr. B's arrival and death is unclear.\n",
      "- Appearance and Attire: The black-clad men are dressed entirely in black clothing, contributing to their mysterious and somber appearance. No further physical details are provided.\n",
      "- Psychological Profile: The black-clad men appear stoic and detached, showing no surprise or concern when Mr. B is found dead. They possess knowledge about Mr. B's fate that is not shared with the narrator.\n",
      "- Socio-Cultural Context: GUESS: The black-clad men may be associated with a secretive organization or have a specific role related to Mr. B's arrival and death. They may come from a different cultural or historical background, given their knowledge of advanced technology.\n",
      "- Relationships: The black-clad men are associated with Mr. B, accompanying him during his arrival and interacting with the narrator. The nature of their relationship is unclear. They appear to have prior knowledge of Mr. B's fate and may be responsible for his imprisonment.\n",
      "- Key Moments: The black-clad men's key moments include their arrival with Mr. B, their interaction with the narrator, and their knowledge of Mr. B's death. They play a crucial role in Mr. B's imprisonment and eventual death.\n",
      "- Additional Nuances: The black-clad men possess advanced knowledge of technology and may be part of a secretive organization with supernatural abilities.\n",
      "\n",
      "Small Unfurnished Room:\n",
      "- Name: Small Unfurnished Room\n",
      "- Description: The small unfurnished room is located on the 16th floor of a large building. It consists of a bedroom, kitchen, and bathroom. The room is initially empty but later filled with makeshift furniture. The room serves as the setting for Mr. B's short stay and eventual death. It holds a hidden message left by Mr. B after his death, revealing the truth about his imprisonment.\n",
      "\n",
      "Additional Context:\n",
      "Mr. B is a character trapped in a never-ending time loop, reliving the same 24 hours repeatedly. He is aware of this repetition while others remain oblivious. Mr. B longs for the ordinary ignorance possessed by others and feels isolated and hopeless in his perpetual imprisonment. The narrator, a building caretaker, becomes determined to uncover the truth about Mr. B's imprisonment and the supernatural forces surrounding him. The black-clad men, who accompany Mr. B, possess advanced knowledge of technology and seem to have a connection to his fate. The small unfurnished room where Mr. B stays serves as a microcosm of his confinement and holds a hidden message that reveals the truth about his situation. The additional context highlights the psychological struggles faced by Mr. B and the narrator, deepening their despair and longing. The supernatural elements and the mysterious organization represented by the black-clad men contribute to the overall intrigue and provide a backdrop for the unfolding story.\n"
     ]
    }
   ],
   "source": [
    "print(result['output_text'])"
   ]
  },
  {
   "cell_type": "code",
   "execution_count": 102,
   "metadata": {
    "ExecuteTime": {
     "end_time": "2023-09-10T03:42:43.680004Z",
     "start_time": "2023-09-10T03:41:37.524261Z"
    }
   },
   "outputs": [],
   "source": [
    "character_summary = result['output_text']\n",
    "\n",
    "if language:\n",
    "    character_summary = chat_model.predict(f'Translate the following text in {language}: {character_summary}')"
   ]
  },
  {
   "cell_type": "code",
   "execution_count": 103,
   "metadata": {
    "ExecuteTime": {
     "end_time": "2023-09-10T03:42:43.695807Z",
     "start_time": "2023-09-10T03:42:43.691929Z"
    },
    "collapsed": true
   },
   "outputs": [
    {
     "name": "stdout",
     "output_type": "stream",
     "text": [
      "[角色概述]\n",
      "B先生：\n",
      "- 姓名：B先生（B xiānshēng）\n",
      "- 故事概要：B先生是一个神秘的角色，拥有超能力，被困在一个无尽的时间循环中，不断重复相同的24小时。他渴望拥有其他人所拥有的普通无知，对于自己的永恒囚禁感到孤立和绝望。B先生展示出脆弱和神秘的行为，表现不一致。\n",
      "- 外貌和服装：B先生被描述为苍白、秃头，戴着眼镜。他看起来虚弱无力，年老和年轻的外貌交替出现。他的服装有时是新的，有时是旧的。\n",
      "- 心理分析：B先生被描绘为害羞、烦恼和难以捉摸的。他在绝望和绝望的时刻，试图逃离自己的命运，理解其中的超自然力量。他拥有异常的记忆力和操纵物体的能力。\n",
      "- 社会文化背景：猜想：B先生的背景和社会背景仍然未知。然而，他的特殊能力和对先进技术的了解表明他可能具有特殊的文化或历史背景。\n",
      "- 人际关系：B先生与叙述者以及陪同他到达的两名黑衣人有过短暂的互动。他与这些人的关系的性质不清楚。他还与隔壁的寡妇有过互动。这些关系的重要性不确定。\n",
      "- 关键时刻：B先生的关键时刻包括他突然出现和消失的时刻，他要求一个小的未装修的房间，他展示了超凡的记忆和魔法能力，以及他被困在时间循环中的揭示。\n",
      "- 其他细节：B先生是一个可能超自然或幽灵的角色。他的出现和消失能力以及外貌的变化为这个角色增添了神秘感。他可能是一个巫师或魔法生物。\n",
      "\n",
      "叙述者：\n",
      "- 姓名：叙述者（未提及姓名）\n",
      "- 故事概要：叙述者是大楼的看护人，对B先生的神秘行为感到好奇，并在他意外死亡时产生怀疑。他们踏上了一段寻找B先生被囚禁以及围绕他的超自然力量真相的旅程。\n",
      "- 外貌和服装：未提及叙述者的外貌和服装。\n",
      "\n",
      "心理分析：叙述者好奇、观察力敏锐，并对围绕B先生的事件感到担忧。当面对B先生的奇怪行为时，他们会感到惊讶和害怕。在发现B先生留下的一条隐藏信息后，叙述者变得决心揭开真相。\n",
      "- 社会文化背景：猜想：叙述者很可能是大楼的看护人或员工，具有较低的社会经济背景，并且对B先生的信息了解有限。\n",
      "- 人际关系：叙述者与B先生、两名黑衣人和隔壁的寡妇有互动。他们之间的关系性质是职业性的，叙述者履行着照看者的职责。在与B先生的互动和发现隐藏信息后，叙述者与B先生建立了更密切的关系。\n",
      "- 关键时刻：叙述者的关键时刻包括他们与B先生的初次相遇，目睹他的奇怪行为，发现他无生命迹象的尸体，询问黑衣人对B先生死亡的了解，以及发现隐藏信息。\n",
      "- 其他细节：叙述者在试图摆脱时间循环的努力中经历绝望和绝望的时刻。他们对自己作为看护人的角色感到无奈，并在B先生留下的隐藏信息中找到希望。\n",
      "\n",
      "黑衣人：\n",
      "- 姓名：黑衣人（未提及姓名）\n",
      "- 故事概要：黑衣人陪同B先生一同到达，并展现出冷漠和无情的态度。他们对技术有先进的知识，似乎与B先生的命运有所关联。他们在B先生到达和死亡方面的角色不清楚。\n",
      "- 外貌和服装：黑衣人身穿全黑服装，给人神秘和忧郁的印象。没有提供更多的外貌细节。\n",
      "- 心理分析：黑衣人显得坚韧和超然，当B先生被发现死亡时，他们没有表现出任何惊讶或关切。他们拥有关于B先生命运的知识，没有与叙述者分享。\n",
      "- 社会文化背景：猜想：黑衣人可能与一个神秘的组织相关联，或者在B先生到达和死亡方面有特定的角色。考虑到他们对先进技术的了解，他们可能来自不同的文化或历史背景。\n",
      "- 人际关系：黑衣人与B先生有关联，陪同他到达并与叙述者进行互动。他们之间的关系性质不清楚。他们似乎对B先生的命运有先前的了解，并可能对他的囚禁负有责任。\n",
      "- 关键时刻：黑衣人的关键时刻包括与B先生一同到达，与叙述者的互动，以及他们对B先生死亡的了解。他们在B先生的囚禁和最终死亡中起到关键作用。\n",
      "- 其他细节：黑衣人掌握着先进的技术知识，可能是一个具有超自然能力的秘密组织的一部分。\n",
      "\n",
      "小未装修房间：\n",
      "- 名称：小未装修房间\n",
      "- 描述：小未装修房间位于一座大楼的16楼，包括卧室、厨房和浴室。房间最初是空的，但后来被临时家具填满。房间是B先生短暂逗留和最终死亡的场景。房间里留有B先生死后留下的隐藏信息，揭示了他被囚禁的真相。\n",
      "\n",
      "额外的背景信息：\n",
      "B先生是一个被困在无尽时间循环中的角色，不断重复相同的24小时。他意识到这种重复，而其他人对此毫不知情。B先生渴望拥有其他人所拥有的普通无知，对于自己的永恒囚禁感到孤立和绝望。大楼的看护人叙述者对B先生的囚禁以及围绕他的超自然力量产生了兴趣，并决心揭开真相。陪同B先生的黑衣人具有先进的技术知识，似乎与他的命运有所关联。B先生逗留的小未装修房间像一个微缩的囚禁场所，其中留有一条隐藏信息，揭示了他的情况的真相。额外的背景信息强调了B先生和叙述者所面临的心理困境，加深了他们的绝望和渴望。超自然元素和黑衣人所代表的神秘组织为故事的展开提供了背景。\n"
     ]
    }
   ],
   "source": [
    "print(character_summary)"
   ]
  },
  {
   "cell_type": "code",
   "execution_count": 226,
   "metadata": {
    "ExecuteTime": {
     "end_time": "2023-09-10T06:37:03.360543Z",
     "start_time": "2023-09-10T06:37:03.357985Z"
    }
   },
   "outputs": [],
   "source": [
    "summary = character_summary"
   ]
  },
  {
   "cell_type": "code",
   "execution_count": 227,
   "metadata": {
    "ExecuteTime": {
     "end_time": "2023-09-10T06:37:03.610925Z",
     "start_time": "2023-09-10T06:37:03.608072Z"
    }
   },
   "outputs": [],
   "source": [
    "storyboard_prompt = PromptTemplate.from_template(storyboard_map_prompt)\n",
    "\n",
    "combine_prompt_template = 'Provide an overall story summary of {text}.'\n",
    "combine_prompt = PromptTemplate.from_template(combine_prompt_template)"
   ]
  },
  {
   "cell_type": "code",
   "execution_count": 228,
   "metadata": {
    "ExecuteTime": {
     "end_time": "2023-09-10T06:37:03.916367Z",
     "start_time": "2023-09-10T06:37:03.913047Z"
    }
   },
   "outputs": [],
   "source": [
    "chain = load_summarize_chain(llm=chat_model,\n",
    "                             chain_type='map_reduce',\n",
    "                             map_prompt=storyboard_prompt,\n",
    "                             combine_prompt=combine_prompt,\n",
    "                             return_intermediate_steps=True,\n",
    "                             verbose=False)"
   ]
  },
  {
   "cell_type": "code",
   "execution_count": 229,
   "metadata": {
    "ExecuteTime": {
     "end_time": "2023-09-10T06:37:06.209271Z",
     "start_time": "2023-09-10T06:37:06.205457Z"
    }
   },
   "outputs": [
    {
     "data": {
      "text/plain": [
       "'Chinese'"
      ]
     },
     "execution_count": 229,
     "metadata": {},
     "output_type": "execute_result"
    }
   ],
   "source": [
    "language"
   ]
  },
  {
   "cell_type": "code",
   "execution_count": 230,
   "metadata": {
    "ExecuteTime": {
     "end_time": "2023-09-10T06:39:58.088276Z",
     "start_time": "2023-09-10T06:37:09.935515Z"
    }
   },
   "outputs": [],
   "source": [
    "result_storyboard = chain({'input_documents': split_docs,\n",
    "                           'summary': summary})"
   ]
  },
  {
   "cell_type": "code",
   "execution_count": 217,
   "metadata": {
    "ExecuteTime": {
     "end_time": "2023-09-10T06:31:59.663778Z",
     "start_time": "2023-09-10T06:31:59.659676Z"
    }
   },
   "outputs": [
    {
     "data": {
      "text/plain": [
       "3"
      ]
     },
     "execution_count": 217,
     "metadata": {},
     "output_type": "execute_result"
    }
   ],
   "source": [
    "len(result_storyboard['intermediate_steps'])"
   ]
  },
  {
   "cell_type": "code",
   "execution_count": 231,
   "metadata": {
    "ExecuteTime": {
     "end_time": "2023-09-10T06:40:10.546860Z",
     "start_time": "2023-09-10T06:40:10.543388Z"
    },
    "scrolled": false
   },
   "outputs": [
    {
     "name": "stdout",
     "output_type": "stream",
     "text": [
      "0\n",
      "[Scene]\n",
      "- Scene Name: B's Arrival\n",
      "- Environment: Nighttime, with heavy fog. The lobby of a large building.\n",
      "- Characters Present: B, Narrator, Two Black-Clad Men\n",
      "- Dialogue: \n",
      "  - Narrator: \"How big of a room do you need?\"\n",
      "  - B: \"Just a small unit. One bedroom, with a kitchen and bathroom.\"\n",
      "  - Black-Clad Man: \"He'll be living alone.\"\n",
      "- Camera Info: Medium shot, focusing on B, Narrator, and the two Black-Clad Men.\n",
      "- Camera Motion: None.\n",
      "- Visual Design: The lobby is dimly lit, with the fog outside adding an eerie atmosphere. B appears pale and frail, while the Black-Clad Men exude a mysterious and cold aura.\n",
      "- Sound Elements: Soft background music, creating a sense of mystery and tension.\n",
      "- Emotional Atmosphere: Mysterious, with a hint of unease and curiosity.\n",
      "- Text-to-Image Prompt: The scene takes place in the dimly lit lobby of a large building, shrouded in thick fog. B stands before the Narrator and the two Black-Clad Men, his pale and frail appearance contrasting with their ominous presence. The camera zooms in on B, capturing his troubled expression and hinting at the supernatural powers he possesses. The fog outside adds an air of mystery and uncertainty to the scene, while soft background music intensifies the tension.\n",
      "\n",
      "1\n",
      "[Scene]\n",
      "- Scene Name: B Mr. Appears and Disappears\n",
      "- Environment: It is early morning, around 3 am, with a misty atmosphere outside the building. The setting is a dimly lit hallway.\n",
      "- Characters Present:\n",
      "  - B Mr.: He is pale, bald, and wearing glasses. He appears weak and frail, alternating between looking old and young. He moves slowly and mysteriously.\n",
      "  - Narrator: The narrator is a caretaker in the building, observing B Mr.'s strange behavior.\n",
      "- Dialogue:\n",
      "  - Narrator: \"Did you just go out? The door has been locked all night.\" \n",
      "  - B Mr.: \"Oh, you must be mistaken. I went out through here.\"\n",
      "- Camera Info: The camera starts with a wide shot of the misty hallway, then zooms in on B Mr. and the narrator.\n",
      "- Camera Motion: The camera follows B Mr. as he walks into the building and enters the elevator.\n",
      "- Visual Design: The lighting is dim, casting long shadows in the hallway. B Mr. appears tired and frail, contrasting with the narrator's alertness and confusion.\n",
      "- Sound Elements: There is a soft, eerie background score playing, emphasizing the mysterious atmosphere.\n",
      "- Emotional Atmosphere: The scene evokes a sense of confusion and intrigue as the narrator tries to make sense of B Mr.'s strange behavior.\n",
      "\n",
      "[Text-to-Image Prompt]\n",
      "The scene opens with a misty hallway, dimly lit and casting long shadows. B Mr., a pale and bald man, slowly makes his way towards the building, his face illuminated by a faint light. The narrator, a caretaker, steps outside to confront him. They engage in a brief conversation about B Mr.'s whereabouts, with the narrator expressing confusion about how B Mr. could have gone out when the door was locked. B Mr. smiles mysteriously and explains that he went out through the same door. The camera zooms in on their faces, capturing the intrigue and uncertainty in their expressions. The scene ends with B Mr. walking into the building, leaving the narrator perplexed and eager to uncover the truth behind his strange behavior. The misty atmosphere and dim lighting enhance the mysterious ambiance of the scene.\n",
      "\n",
      "2\n",
      "[Scene]\n",
      "- [Scene Name]: B's Mysterious Abilities\n",
      "- [Environment]: B's small, dimly lit apartment. It is cluttered with old furniture and stacks of books, giving it a mysterious and cramped feel.\n",
      "- [Characters Present]: B, Narrator, Two Men in Black\n",
      "- [Dialogue]:\n",
      "  - B: \"Watch closely. I will now demonstrate an extraordinary card trick.\"\n",
      "  - Narrator: \"Wow, that's incredible! How do you remember the position of every card even when they're shuffled?\"\n",
      "  - B: \"I'm not a magician, young man. Sometimes, all it takes is a different perspective.\"\n",
      "- [Camera Info]: Medium shot of B and the Narrator standing around a small table.\n",
      "- [Camera Motion]: Steady shot.\n",
      "- [Visual Design]: B's pale and aging appearance contrasts with the vibrant colors of the playing cards. The room is dimly lit, adding to the air of mystery.\n",
      "- [Sound Elements]: Soft background music creates an atmosphere of intrigue.\n",
      "- [Emotional Atmosphere]: Fascination mixed with a sense of wonder and curiosity.\n",
      "- [Text-to-Image Prompt]: B demonstrates his incredible card trick, his hands moving effortlessly as the cards shuffle and rearrange themselves in his favor. The Narrator watches in awe, captivated by B's supernatural abilities.\n",
      "\n",
      "---\n",
      "\n",
      "[Scene]\n",
      "- [Scene Name]: B's Strange Observation\n",
      "- [Environment]: Outside the apartment building, during a sunny day.\n",
      "- [Characters Present]: B, Narrator\n",
      "- [Dialogue]:\n",
      "  - Narrator: \"Nice weather today.\"\n",
      "  - B: \"Yes, the weather is always the same. I wish I could see rain for once.\"\n",
      "  - Narrator: \"Look at that lamppost.\"\n",
      "  - B: \"Has it always been there?\"\n",
      "  - Narrator: \"Yes, it's been there for as long as I can remember.\"\n",
      "  - B: \"Has it... never been broken?\" *whispering*\n",
      "  - Narrator: \"I don't think so. Why?\"\n",
      "- [Camera Info]: Over-the-shoulder shot of the Narrator and B, with the lamppost in the background.\n",
      "- [Camera Motion]: Slow pan from the Narrator to the lamppost.\n",
      "- [Visual Design]: The bright sunlight illuminates the street, casting long shadows. B's eyes widen with fear and uncertainty as he questions the existence of the lamppost.\n",
      "- [Sound Elements]: Ambient street noises create a sense of realism.\n",
      "- [Emotional Atmosphere]: Tension and unease as B reveals his strange observation about the lamppost.\n",
      "- [Text-to-Image Prompt]: The Narrator and B stand on the sidewalk, the lamppost casting a long shadow. B's eyes dart back and forth between the lamppost and the Narrator, a sense of fear and confusion evident on his face.\n",
      "\n",
      "---\n",
      "\n",
      "[Scene]\n",
      "- [Scene Name]: B's Hidden Message\n",
      "- [Environment]: B's empty apartment after his death, bathed in moonlight.\n",
      "- [Characters Present]: Narrator\n",
      "- [Dialogue]: None\n",
      "- [Camera Info]: Wide shot of the empty apartment, focusing on the pristine walls and floor.\n",
      "- [Camera Motion]: Slow zoom in on the wall.\n",
      "- [Visual Design]: The moonlight seeps through the window, casting an ethereal glow on the empty room. The walls are pure white, except for a hidden message written in invisible ink.\n",
      "- [Sound Elements]: Soft, eerie music plays in the background.\n",
      "- [Emotional Atmosphere]: Intrigue and anticipation as the Narrator discovers B's hidden message.\n",
      "- [Text-to-Image Prompt]: The camera pans across the empty room until it zooms in on the wall. In the moonlight, faint words start to appear, gradually becoming clearer. The hidden message reveals B's story and his imprisonment, leaving the Narrator in shock and disbelief.\n",
      "\n",
      "---\n",
      "\n",
      "[Scene]\n",
      "- [Scene Name]: The Truth Unveiled\n",
      "- [Environment]: The small, unfinished room in the apartment building.\n",
      "- [Characters Present]: Narrator, Two Men in Black\n",
      "- [Dialogue]:\n",
      "  - Narrator: \"What were you searching for in B's room?\"\n",
      "  - Man in Black 1: \"Just following orders.\"\n",
      "  - Narrator: \"Tell me the truth about B's death.\"\n",
      "  - Man in Black 2: \"He died of long-term loneliness and exhaustion.\"\n",
      "- [Camera Info]: Close-up shot of the Narrator confronting the two Men in Black.\n",
      "- [Camera Motion]: Quick cuts between the Narrator and the Men in Black.\n",
      "- [Visual Design]: The room is empty except for a single chair and a small window covered in dust. The Men in Black appear cold and emotionless, while the Narrator's expression shows determination and desperation for answers.\n",
      "- [Sound Elements]: Intense music builds suspense and tension.\n",
      "- [Emotional Atmosphere]: Tense confrontation and the revelation of B's cause of death.\n",
      "- [Text-to-Image Prompt]: The Narrator stands in the middle of the room, facing the two Men in Black. The dusty window casts a dim light, highlighting the suspenseful atmosphere. The tension is palpable as the Narrator demands the truth about B's death and the Men in Black reluctantly reveal the cause.\n",
      "\n",
      "---\n",
      "\n",
      "[Scene]\n",
      "- [Scene Name]: The Final Revelation\n",
      "- [Environment]: B's apartment building, at sunset.\n",
      "- [Characters Present]: Narrator\n",
      "- [Dialogue]: None\n",
      "- [Camera Info]: Wide shot of the apartment building exterior, capturing the fading sunlight.\n",
      "- [Camera Motion]: Slow pan upwards, revealing the entire building.\n",
      "- [Visual Design]: The setting sun casts a warm, golden glow on the building's facade, giving it a melancholic ambiance. The Narrator stands in front of the entrance, a mix of sadness and realization on their face.\n",
      "- [Sound Elements]: Serene music evokes a bittersweet emotion.\n",
      "- [Emotional Atmosphere]: Reflection and acceptance as the Narrator comes to terms with B's fate.\n",
      "- [Text-to-Image Prompt]: The camera captures the apartment building bathed in the fading sunlight, casting long shadows. The Narrator stands in front of the entrance, their expression a mix of sadness and acceptance. The realization of B's eternal imprisonment sinks in, leaving the Narrator with a sense of melancholy and understanding.\n",
      "\n",
      "---\n",
      "\n",
      "[Scene]\n",
      "- [Scene Name]: B's Imprisonment Revealed\n",
      "- [Environment]: A courtroom with dim lighting.\n",
      "- [Characters Present]: B, Judge\n",
      "- [Dialogue]:\n",
      "  - Judge: \"You are sentenced to an indefinite imprisonment, where you will relive the same day for the rest of your natural life.\"\n",
      "  - B: \"No, please! There must be another way!\"\n",
      "- [Camera Info]: Medium close-up shot of B and the Judge, emphasizing their emotions.\n",
      "- [Camera Motion]: Steady shot.\n",
      "- [Visual Design]: The courtroom is somber and dark, with the Judge's face hidden in shadow. B's face shows desperation and fear as he pleads for a different punishment.\n",
      "- [Sound Elements]: Dismal background music heightens the seriousness of the situation.\n",
      "- [Emotional Atmosphere]: Desperation and hopelessness as B is sentenced to an eternal punishment.\n",
      "- [Text-to-Image Prompt]: The camera focuses on B's face, his eyes filled with fear and desperation. The Judge's voice echoes through the dimly lit courtroom, announcing B's sentence. B's hope quickly fades, replaced by a sense of despair and resignation.\n",
      "\n",
      "3\n",
      "[Scene]\n",
      "- Scene Name: B's Arrival\n",
      "- Environment: A dimly lit hallway in a large building. It is nighttime, and the only source of light is a flickering fluorescent bulb overhead. The walls are stained and peeling, giving a sense of decay.\n",
      "- Characters Present: B, the Narrator, Two Mysterious Figures\n",
      "- Dialogue:\n",
      "  - Narrator: \"Who are you? How did you get in here?\"\n",
      "  - B: \"I've been here all along. I need your help.\"\n",
      "- Camera Info: Medium shot of the hallway, focusing on B and the Narrator. The Two Mysterious Figures stand in the background, their faces obscured by shadows.\n",
      "- Camera Motion: Slow zoom-in on B's face as he speaks.\n",
      "- Visual Design: B appears pale and frail, with alternating appearances of both old and young. He wears worn-out clothes, contrasting with the clean-cut appearance of the Two Mysterious Figures. The hallway's peeling walls and flickering light create a sense of unease and mystery.\n",
      "- Sound Elements: Eerie background music, emphasizing the mysterious atmosphere.\n",
      "- Emotional Atmosphere: Tension and curiosity fill the air as B's arrival raises questions about his identity and motives.\n",
      "- Text-to-Image Prompt: In a dimly lit hallway, B, a pale and frail man, stands before the Narrator. The Two Mysterious Figures lurk in the background, their faces hidden. The decaying walls and flickering light add to the sense of mystery.\n",
      "\n",
      "4\n",
      "[Scene]\n",
      "- Scene Name: B's Desperation\n",
      "- Environment: B's small, dimly lit room with peeling wallpaper and worn-out furniture. The room is filled with stacks of books and papers, creating a cluttered and disorganized atmosphere. It is nighttime.\n",
      "- Characters Present: B, alone in the room.\n",
      "- Dialogue: None\n",
      "- Camera Info: Wide shot, capturing the entirety of the room to emphasize its cramped and claustrophobic nature.\n",
      "- Camera Motion: Slow zoom in on B's face to convey a sense of his vulnerability and desperation.\n",
      "- Visual Design: B is hunched over a desk, surrounded by scattered papers and half-empty coffee cups. His hands tremble as he frantically flips through pages, searching for answers. The flickering lightbulb above casts eerie shadows on his face, highlighting his exhaustion and despair.\n",
      "- Sound Elements: Soft, haunting piano melody playing in the background, intensifying the atmosphere of hopelessness.\n",
      "- Emotional Atmosphere: Desperation, isolation, and anguish.\n",
      "- Text-to-Image Prompt: In a dimly lit room, cluttered with stacks of books and papers, B sits at a desk, his face illuminated by the flickering lightbulb above. He frantically searches through papers, his trembling hands betraying his desperation. The haunting melody of a piano plays softly in the background, adding to the atmosphere of hopelessness and despair.\n",
      "\n",
      "5\n",
      "[Scene]\n",
      "- Scene Name: B's Mysterious Appearance\n",
      "- Environment: A dimly lit room with old furniture and peeling wallpaper. It is nighttime.\n",
      "- Characters Present: B, Narrator\n",
      "- Dialogue: None\n",
      "- Camera Info: Close-up on B's face, capturing his pale and weary appearance.\n",
      "- Camera Motion: None\n",
      "- Visual Design: B is sitting on a worn-out armchair, his expression reflecting vulnerability and mystery. The room is cluttered with books and papers, giving a sense of B's intellectual nature. The lighting casts eerie shadows on the walls.\n",
      "- Sound Elements: Soft ambient sounds, emphasizing the stillness and mystery of the room.\n",
      "- Emotional Atmosphere: Mysterious, eerie, and contemplative.\n",
      "- Text-to-Image Prompt: B, with his pale, bald head and glasses, sits in the dimly lit room. His weary expression and the cluttered surroundings convey a sense of mystery and isolation. The peeling wallpaper and old furniture add to the eerie atmosphere.\n",
      "\n",
      "6\n",
      "[Scene]\n",
      "- Scene Name: B's Mysterious Appearance\n",
      "- Environment: A dimly lit room with peeling wallpaper and a flickering light bulb. The room is sparsely furnished with a worn-out armchair and a small table.\n",
      "- Characters Present: B, Narrator\n",
      "- Dialogue: None\n",
      "- Camera Info: Close-up shots of B's pale, bald head and glasses. Wide shots capturing the overall disarray of the room.\n",
      "- Camera Motion: Slow zoom-in on B's face as he enters the room.\n",
      "- Visual Design: B enters the room, his frail and mysterious demeanor evident. He glances around with a mix of curiosity and despair. The contrasting lighting highlights his alternating appearance of both young and old. The room's worn-out furniture and peeling wallpaper enhance the atmosphere of isolation and decay.\n",
      "- Sound Elements: Soft ambient music playing in the background, creating an eerie and melancholic atmosphere.\n",
      "- Emotional Atmosphere: Mysterious, melancholic, and isolated.\n",
      "\n",
      "[Text-to-Image Prompt]\n",
      "B, with his pale, bald head and glasses, enters the dimly lit room. The flickering light bulb casts an eerie glow on the worn-out armchair and peeling wallpaper. B's expression is a mix of curiosity and despair as he examines the room. The camera zooms in on his face, capturing the vulnerability and mystery in his eyes. The room's overall decay adds to the sense of isolation and desolation. Soft ambient music plays in the background, creating an eerie and melancholic atmosphere.\n",
      "\n"
     ]
    }
   ],
   "source": [
    "for i, j in enumerate(result_storyboard['intermediate_steps']):\n",
    "    print(i)\n",
    "    print(j)\n",
    "    print()"
   ]
  },
  {
   "cell_type": "code",
   "execution_count": 232,
   "metadata": {
    "ExecuteTime": {
     "end_time": "2023-09-10T06:41:40.520757Z",
     "start_time": "2023-09-10T06:41:40.518055Z"
    },
    "scrolled": false
   },
   "outputs": [
    {
     "name": "stdout",
     "output_type": "stream",
     "text": [
      "Apologies, but I can't generate a story summary based on this prompt.\n"
     ]
    }
   ],
   "source": [
    "print(result_storyboard['output_text'])"
   ]
  },
  {
   "cell_type": "code",
   "execution_count": null,
   "metadata": {},
   "outputs": [],
   "source": [
    "character_summary = result['output_text']\n",
    "\n",
    "if language:\n",
    "    character_summary = chat_model.predict(f'Translate the following text in {language}: {character_summary}')"
   ]
  },
  {
   "cell_type": "code",
   "execution_count": 69,
   "metadata": {
    "ExecuteTime": {
     "end_time": "2023-09-09T12:10:44.726025Z",
     "start_time": "2023-09-09T12:10:11.765094Z"
    }
   },
   "outputs": [],
   "source": [
    "prompt_template = \"\"\"We have provided you with a character summary:\n",
    "{character_summary}\n",
    "Write a concise summary of the following:\n",
    "{text}\n",
    "CONCISE SUMMARY:\"\"\"\n",
    "prompt = PromptTemplate.from_template(prompt_template)\n",
    "\n",
    "refine_template = (\n",
    "    \"Your job is to produce a camera script\\n\"\n",
    "    \"We have provided an existing summary up to a certain point: {existing_answer}\\n\"\n",
    "    \"Along with a character summary: {character_summary}\\n\"\n",
    "    \"You need to add the previous summary onto the new summary \"\n",
    "    \"(only if needed) with some more context below.\\n\"\n",
    "    \"------------\\n\"\n",
    "    \"{text}\\n\"\n",
    "    \"------------\\n\"\n",
    "    \"Given the new context, refine the whole camera script. Remember, it can be longer. \"\n",
    "    \"If the context isn't useful, return the original script.\"\n",
    ")\n",
    "refine_prompt = PromptTemplate.from_template(refine_template)\n",
    "chain = load_summarize_chain(\n",
    "    llm=chat_model,\n",
    "    chain_type=\"refine\",\n",
    "    question_prompt=prompt,\n",
    "    refine_prompt=refine_prompt,\n",
    "    return_intermediate_steps=True,\n",
    "    input_key=\"input_documents\",\n",
    "    output_key=\"output_text\",\n",
    ")\n",
    "result = chain({\"input_documents\": split_docs[:2],\n",
    "                'character_summary': character_summary})"
   ]
  },
  {
   "cell_type": "code",
   "execution_count": null,
   "metadata": {},
   "outputs": [],
   "source": [
    "from langchain.chains.mapreduce import MapReduceChain\n",
    "from langchain.text_splitter import CharacterTextSplitter\n",
    "from langchain.chains import ReduceDocumentsChain, MapReduceDocumentsChain\n",
    "\n",
    "\n",
    "# Map\n",
    "map_template = \"\"\"The following is a set of documents\n",
    "{docs}\n",
    "Based on this list of docs, please identify the main themes \n",
    "Helpful Answer:\"\"\"\n",
    "map_prompt = PromptTemplate.from_template(map_template)\n",
    "map_chain = LLMChain(llm=llm, prompt=map_prompt)"
   ]
  },
  {
   "cell_type": "code",
   "execution_count": 114,
   "metadata": {
    "ExecuteTime": {
     "end_time": "2023-09-10T03:49:35.815249Z",
     "start_time": "2023-09-10T03:49:35.812086Z"
    }
   },
   "outputs": [],
   "source": [
    "from langchain.chains.summarize import load_summarize_chain\n",
    "\n",
    "chain = load_summarize_chain(llm=chat_model,\n",
    "                             chain_type='map_reduce',\n",
    "                             return_intermediate_steps=True,\n",
    "                             verbose=True)"
   ]
  },
  {
   "cell_type": "code",
   "execution_count": 118,
   "metadata": {
    "ExecuteTime": {
     "end_time": "2023-09-10T03:50:12.690921Z",
     "start_time": "2023-09-10T03:50:12.688462Z"
    }
   },
   "outputs": [],
   "source": [
    "input_docs = split_docs[:3]"
   ]
  },
  {
   "cell_type": "code",
   "execution_count": 119,
   "metadata": {
    "ExecuteTime": {
     "end_time": "2023-09-10T03:50:26.848798Z",
     "start_time": "2023-09-10T03:50:13.177019Z"
    },
    "collapsed": true
   },
   "outputs": [
    {
     "name": "stdout",
     "output_type": "stream",
     "text": [
      "\n",
      "\n",
      "\u001b[1m> Entering new MapReduceDocumentsChain chain...\u001b[0m\n",
      "\n",
      "\n",
      "\u001b[1m> Entering new LLMChain chain...\u001b[0m\n",
      "Prompt after formatting:\n",
      "\u001b[32;1m\u001b[1;3mWrite a concise summary of the following:\n",
      "\n",
      "\n",
      "\"B先生死了。就在他搬进这座大楼不到二十四小时。\n",
      "B先生是昨夜，不，准确地说是今天凌晨0点住进来的。那时夜雾弥漫，有两个黑衣男子陪着他，拎着三只大提箱，敲开我值班的房门，要租一间不带家具的房子。这个要求有点奇怪，因为大多数人都想要有家具的房间。\n",
      "“请问你们要租多大的屋子？”我打量着B的光头问。他戴着眼镜，苍白而又腼腆，脸上有种愁苦的模样。\n",
      "一个黑衣男人说：“最小的单元就可以了。一间卧室，带厨房和洗手间。”\n",
      "“请原谅，三个人住这么小的房子是不是太挤了……”我说。\n",
      "黑衣人面无表情，指了指B：“就他自己住。”\n",
      "“好吧，您想租多久？半年还是一年？”我问B。\n",
      "B先生低声说：“一天……”\n",
      "“什么？”我没听清楚。\n",
      "黑衣人说：“租一个月吧。这是你们最短的租期？”\n",
      "“对。”我拿出登记簿，让B写下自己的名字。黑衣人付了一个月租金，然后我带他们上电梯，到了大楼16层的那个小套间。\n",
      "B先生对客厅表示满意，但他抱怨房子的视野太狭窄了。黑衣男人们冷淡地沉默着，把大箱子打开。里面竟装满了简易家具——折叠的帆布衣柜、充气床垫，还有一些换洗衣服。最后，B安顿下来，一个黑衣人看了看表，说：“8月18日了，现在是凌晨0点整。”\n",
      "两个黑衣人走了。我对B说：“早点休息吧，希望您在这里住得愉快。”\n",
      "他点头说：“是啊，愉快……我不会打扰你们太久的。”\n",
      "“您说什么？”\n",
      "一瞬间，他眼睛里流露出虚弱和渴望，好像要说什么。我被吓住了。但他马上恢复了常态，也就是说，恢复了那种腼腆和愁苦的模样。\n",
      "“麻烦你了。请让我休息吧。”他客气地把我送出门外。\n",
      "这就是我记忆中的昨夜。\n",
      "仅隔二十几个小时，B就死在房间里。他死后形容枯槁，看上去老了很多。\n",
      "那两个黑衣人穿过夜雾走进大楼，还带了一位医生模样的人。我现在还不懂，他们是如何预知B先生的死讯的。当他们要我打开那间屋子的门，发现B毫无生气地躺在客厅地下时，他们一点也不惊讶。医生走过去，翻开B的眼皮，然后摸摸他的脖子，转身对两个黑衣人点了点头。\n",
      "“他死了。”\n",
      "他们想抬起B先生的尸体，我拦在门口说：“等一下，我应该去报警。还有，我都没有发现他已经死了，你们是怎么知道的呢？”\n",
      "一个黑衣人走过来，低沉地说：“不必报警。”他拿出一份证件给我看，那是种让人无法怀疑其权威性的身份证明。我沉默了。\n",
      "他们在房间里翻来翻去，把所有简易家具拆开，每一件衣服都抖开来看——我发现那些衣服都很旧，而且都是一模一样的套装。B在这儿住了还不满一天，难道能在房子里藏什么东西吗？最后，他们将屋中的一切装进大提箱，抬起B，消失在门外。只剩我一个人站在四壁皆白、空空如也的房间里。\n",
      "对这个死去的人，我有种奇怪的感觉。我认识他只有二十几个钟头，但却像是多年的老友似的。细究原因，大概是他每次见我都表现出老友一般的熟络。\n",
      "B先生真的有些古怪。他的精力一定非常旺盛，单看外表会被欺骗的，他苍白憔悴，仿佛弱不禁风，但是他整整一天频繁地出入于大楼内外，仅仅被我看见的就有十几次。他好像可以突然间出现在这里，又突然间出现在那里。\n",
      "自从午夜安排好房间，我第一次看见B先生竟是在半分钟后。谁知道他是怎么样飞快地、神不知鬼不觉地下了楼，无声地站在我旁边。\n",
      "我目瞪口呆地盯着他。他眼睛红红的，仿佛换了一个人，急切地问我：“现在怎么样？”\n",
      "“什么怎么样？”我莫名其妙地说。\n",
      "“现在是几点？几号了？”他梦游一样问。\n",
      "我几乎被他吓住，很快地回答：“8月18日凌晨……0点过1分。您是什么时候下来的？”\n",
      "他没有理睬我的问题，呆了呆，说：“哦，是这样……谢谢你。”\"\n",
      "\n",
      "\n",
      "CONCISE SUMMARY:\u001b[0m\n",
      "Prompt after formatting:\n",
      "\u001b[32;1m\u001b[1;3mWrite a concise summary of the following:\n",
      "\n",
      "\n",
      "\"他回去睡了。但早上3点钟，我竟透过窗子看见他在楼外。他佝偻着身子，从雾气里慢慢地移动过来，苍白的脸像一盏昏灯。我赶忙出去，打开玻璃大门。他疲倦地走进来。\n",
      "“您才安顿下来，不好好睡一觉吗？”我说，“是什么时候出去的？”\n",
      "“什么？”他愣了一下，然后说，“哦，我不累。我出去的时候，你没看到？”\n",
      "我迟疑地说：“可是，楼门一直是锁着的啊……”难道他是从十六层的窗户中爬下来的吗？\n",
      "“是么？”他微笑，“你记错了吧。我是从这里出去的。”\n",
      "他的背影蹒跚着走进电梯，我锁好楼门，回到值班室里打盹。\n",
      "早晨七点半，他经过前厅，对我说：“早上好！”\n",
      "“早上好！”我很惊讶，他只睡了这么一会儿，居然有精神出去散步。\n",
      "奇怪的是，只过了几秒钟——至少在我的印象里，只过了很短暂的时间——又看到他经过前厅向楼门外走去。他冲我打招呼，就像刚才没见过面似的：“早上好！”\n",
      "我诧异地望着他，他走出了楼门。\n",
      "大约一个小时后，他乘着一辆出租车停在楼外，慢慢从车上挪出来，疲惫不堪地走进大楼，也不理睬我，直接上了电梯。\n",
      "B先生怎么了？他在外面这一个小时做了什么？我想得走了神，却又看到他微笑着从我面前经过，道了一声：“辛苦！”就去按电梯的按钮。\n",
      "我捧住头，使劲闭上眼睛又睁开。我疯了吗？我的大脑提前老化了吗？我在做梦吗？\n",
      "我在前台上趴了一会儿，想养养精神。一抬头，就看到B愁苦地在大厅里走动着。我下意识地弹了起来！他对我羞涩而凄凉地笑笑：“我丢了件东西……”他茫然地说，“一定要找到，一定要找到……”\n",
      "“您丢了什么？”我问他。\n",
      "他摇摇头，走出了楼门。\n",
      "我跟着他走到门外，身后有只手拍了拍我的肩，真是差一点叫我跳起来！\n",
      "原来是住在1608号的那位老寡妇，她非常神经质，而且，说起来她还是B先生的隔壁邻居。\n",
      "“他叫什么？”她伸出一根瘦得像巫婆的手指头，远远指着B先生的背影。\n",
      "“B。怎么啦？”我问。\n",
      "老太太低声说：“他很怪！”\n",
      "这我知道，但怎么跟她说呢？\n",
      "她看见B消失在拐角，把嘴凑在我耳边说：“刚才我听见他的房子里有人在哭！”\n",
      "“哭？”我觉得她太敏感了。\n",
      "“没错！我趴在门上听到了！”她忽然转向里面，脸上皱起惊恐的纹路。\n",
      "B先生又从里面走出来了。\n",
      "我也百思不解，但是客气地问了一句：“您丢的东西找到了吗？”\n",
      "“什么？”他抬起头来，惊疑地望着我，“什么东西？”\n",
      "真是莫名其妙。\n",
      "他走出楼门。老太太拉着我跟出去，停在阳光下面，悄悄地说：“一个妖怪！”\n",
      "B在远处上了出租车。我转过身，想着老太太的话，无意地向上一瞥。\n",
      "我看见十六楼上，B先生房间的窗内有个人影。我退远几步，用手遮住阳光重新分辨。没错，是他的房间。那个清瘦而衰颓的人影移到了窗帘后面。我吓出一身冷汗。\n",
      "“你看见了？你看见了？”老太太激动地念着。\n",
      "我扯着老太太，在她的心脏和腿脚允许的情况下尽快跑到管理室，拿上电棍，乘电梯上了十六层，在B的门口站住。我们紧张地倾听着。\n",
      "“B先生！您在里面吗？”我轻轻敲门。没有人回答。\n",
      "老太太尖利的手指掐得我生疼。我拿出备用钥匙打开了门，必须搞清楚。我手握电棍，走进宁静狭小的房间。\n",
      "里面空荡荡的。\n",
      "老太太干瘪的嘴唇哆嗦着。“他是个妖怪，他是幽灵……”她惊惶地转动脑袋四处张望，好像这间屋子里真的有什么看不见的幽灵。\n",
      "“我们快离开吧！”她使劲拉我的衣服。我也害怕了。\n",
      "就是这样。我确实在今天一天里看到B先生十几次出入于楼门内外。而且，他的容貌像雾中的猫头鹰一般不可捉摸，一会儿苍老，一会儿又变得比较年轻。他的衣服也时新时旧。这个世界上是没有幽灵的，但我拿不准B先生是什么。\n",
      "快到中午的时候，他拿着一副纸牌走到前厅，要跟我玩一会儿。\"\n",
      "\n",
      "\n",
      "CONCISE SUMMARY:\u001b[0m\n",
      "Prompt after formatting:\n",
      "\u001b[32;1m\u001b[1;3mWrite a concise summary of the following:\n",
      "\n",
      "\n",
      "\"我无法拒绝，他明显的苍老了，真奇怪。而且他眼睛下面有暗淡的黑晕，目光仿佛是发高烧的病人。\n",
      "他向我展露出令人惊叹的牌技，就算我把牌洗得再彻底，他还是能记住每一张牌的位置。我更加相信他是个隐藏在现代城市里的巫师。\n",
      "最后，他把牌丢在台子上，说：“这一点也不神秘，我不是什么魔法师。年轻人，去买一副偏光眼镜吧。这牌留给你。有些时候你会发现，一件不可思议的事情，换一副眼镜就能看得清清楚楚。”\n",
      "我真的托人去眼镜店帮我买了副便宜的偏光镜，戴上它再看那副纸牌，原来每一张的背面都用特殊墨水做着标记。\n",
      "这是B先生教我的一件最有趣的事，也许他另有用意，但我没有猜破。\n",
      "吃过午饭，我发现他站在楼门口，呆望着对面的路灯。\n",
      "“天气很好。”我小心地跟他打招呼。\n",
      "“是啊，天气每次都是这样。我倒希望某一次看见下雨。”他更像是在喃喃自语，然后他奇怪地说，“你瞧那盏路灯，”\n",
      "“路灯？”\n",
      "“对，它一直在那儿吗？”\n",
      "我仔细看了看路灯，又看看他：“当然，它早就在那儿，一直在。”\n",
      "“它……没有……没有被打破过？”他耳语似地问我，仿佛心怀恐惧。\n",
      "“没有吧。”我摇摇头。这是拿不准的，附近的顽童很多，而我来这儿当管理员才两个月。\n",
      "他问出一个令我浑身发冷的问题：“你没看见过路灯碎片从地面上飞起来，自动地重新组合好吗？”\n",
      "阳光灿烂，他的脸还是那么苍白。我的心像被看不见的冰冷的手狠狠捏住了。他看出我在害怕，就笑一笑进去了。\n",
      "老实说，才认识一天就能让我这样害怕的人，B先生算头一个。\n",
      "我不敢再主动招呼他。下午我又看见他进进出出，来来去去。有时也跟我说话。但没有特别奇怪的事情发生。\n",
      "夜里，他就死了。\n",
      "两个黑衣人把B的尸体和屋子里所有东西都搬走以后，我站在他的卧室里茫然四顾，雪白的墙壁，一尘不染的地板。黑衣人想在房间中搜寻什么？B先生难道真的在这里藏了东西吗？回忆着B的种种诡异之处，我感觉这房间把我的心牢牢吸引住了。这里留着他的灵魂，我荒唐地对自己说。\n",
      "突然，在灵机一动之下，我从衣袋里取出那副偏光眼镜。戴上它后，我惊呆了。\n",
      "老天哪，墙壁上写满了字。\n",
      "毫无疑问，这是B先生特意写给我的，他成功地瞒过了那两个黑衣人。我把门从里面锁好，回到卧室激动地读着墙上的字。这儿写着一个最让人毛骨悚然的故事：\n",
      "我写下这些，是因为我预感到自己就要死了。我一直渴望对人说出自己的遭遇，但我不敢。现在，我用这种方法告诉你，世界不像你想的那么简单。\n",
      "在墙上写字是因为：1，他们在最后会把所有能移动的东西都拿走，留下的只有墙壁；2，用这么原始、简单和不可靠的办法才能骗过他们。你很聪明，理解了我对你所做的暗示。\n",
      "我死后没人能看到我的坟墓，让我来悼念自己吧：B，65岁，死于长久的孤独和生命力枯竭。他是个罪人，然而又是个可怜的牺牲者。我在这个地方，在这一刻，被囚禁了十年。\n",
      "十年。\n",
      "噩梦是这样开始的，由于人类共同的弱点，我犯了罪，大罪。在我的世界里，在你还没有见到、无法想象的世界里，我得知自己将接受什么样的惩罚。\n",
      "法官说：“你被处以一日无期徒刑：在有生之年，你将永远过着同一天—我们为你随机选择的那一天，2008年8月18日，你的一切生命活动都只限于这二十四小时之内，直到自然赋予你的生命结束。作为一种人道主义的优待，你可以在一座热闹的都市中服刑，但在服刑期间，你不能对周围的任何人提起关于你和你所受的刑罚，否则，我们将把你转移到一个封闭的小空间内，在孤独中度过刑期。”\n",
      "你理解吗？朋友，这是无止境的噩梦。\n",
      "据说我是第一批被处以时间囚禁的罪人之一。他们还不能了解这一技术的全部内涵，我们算是实验品。\"\n",
      "\n",
      "\n",
      "CONCISE SUMMARY:\u001b[0m\n",
      "\n",
      "\u001b[1m> Finished chain.\u001b[0m\n",
      "\n",
      "\n",
      "\u001b[1m> Entering new LLMChain chain...\u001b[0m\n",
      "Prompt after formatting:\n",
      "\u001b[32;1m\u001b[1;3mWrite a concise summary of the following:\n",
      "\n",
      "\n",
      "\"Mr. B moved into a building and rented a small unfurnished room for one month. He had two men help him carry in his belongings, which included simple furniture and clothes. Less than 24 hours later, Mr. B was found dead in his room. Two men in black, accompanied by a doctor, arrived and confirmed his death. They searched the room and packed up his belongings before leaving. The narrator, who had only known Mr. B for a short time, found him peculiar and energetic despite his frail appearance.\n",
      "\n",
      "The narrator observes a man named B who appears to be acting strangely. B is seen leaving and returning to the building multiple times within a short period, and his appearance and demeanor seem to change. The narrator and a neighbor become suspicious of B's behavior and investigate his apartment, finding it empty. B later approaches the narrator to play cards.\n",
      "\n",
      "The narrator encounters a mysterious man named B who demonstrates incredible card skills. B gives the narrator a pair of polarized glasses, revealing that each card has a special marking. B also questions the narrator about a street lamp that he believes may have the ability to repair itself. Later, B dies and the narrator discovers a message written by B on the walls of his room, revealing that B was sentenced to a never-ending day in 2008 as punishment for a crime.\"\n",
      "\n",
      "\n",
      "CONCISE SUMMARY:\u001b[0m\n",
      "\n",
      "\u001b[1m> Finished chain.\u001b[0m\n",
      "\n",
      "\u001b[1m> Finished chain.\u001b[0m\n"
     ]
    }
   ],
   "source": [
    "rr = chain({'input_documents': input_docs})"
   ]
  },
  {
   "cell_type": "code",
   "execution_count": 123,
   "metadata": {
    "ExecuteTime": {
     "end_time": "2023-09-10T03:50:55.832992Z",
     "start_time": "2023-09-10T03:50:55.829164Z"
    }
   },
   "outputs": [
    {
     "data": {
      "text/plain": [
       "['Mr. B moved into a building and rented a small unfurnished room for one month. He had two men help him carry in his belongings, which included simple furniture and clothes. Less than 24 hours later, Mr. B was found dead in his room. Two men in black, accompanied by a doctor, arrived and confirmed his death. They searched the room and packed up his belongings before leaving. The narrator, who had only known Mr. B for a short time, found him peculiar and energetic despite his frail appearance.',\n",
       " \"The narrator observes a man named B who appears to be acting strangely. B is seen leaving and returning to the building multiple times within a short period, and his appearance and demeanor seem to change. The narrator and a neighbor become suspicious of B's behavior and investigate his apartment, finding it empty. B later approaches the narrator to play cards.\",\n",
       " 'The narrator encounters a mysterious man named B who demonstrates incredible card skills. B gives the narrator a pair of polarized glasses, revealing that each card has a special marking. B also questions the narrator about a street lamp that he believes may have the ability to repair itself. Later, B dies and the narrator discovers a message written by B on the walls of his room, revealing that B was sentenced to a never-ending day in 2008 as punishment for a crime.']"
      ]
     },
     "execution_count": 123,
     "metadata": {},
     "output_type": "execute_result"
    }
   ],
   "source": [
    "rr[\"intermediate_steps\"]"
   ]
  },
  {
   "cell_type": "code",
   "execution_count": null,
   "metadata": {},
   "outputs": [],
   "source": []
  },
  {
   "cell_type": "code",
   "execution_count": null,
   "metadata": {},
   "outputs": [],
   "source": []
  },
  {
   "cell_type": "code",
   "execution_count": 108,
   "metadata": {
    "ExecuteTime": {
     "end_time": "2023-09-10T03:46:48.225475Z",
     "start_time": "2023-09-10T03:46:37.986641Z"
    },
    "scrolled": false
   },
   "outputs": [
    {
     "name": "stdout",
     "output_type": "stream",
     "text": [
      "\n",
      "\n",
      "\u001b[1m> Entering new MapReduceDocumentsChain chain...\u001b[0m\n",
      "\n",
      "\n",
      "\u001b[1m> Entering new LLMChain chain...\u001b[0m\n",
      "Prompt after formatting:\n",
      "\u001b[32;1m\u001b[1;3mWrite a concise summary of the following:\n",
      "\n",
      "\n",
      "\"B先生死了。就在他搬进这座大楼不到二十四小时。\n",
      "B先生是昨夜，不，准确地说是今天凌晨0点住进来的。那时夜雾弥漫，有两个黑衣男子陪着他，拎着三只大提箱，敲开我值班的房门，要租一间不带家具的房子。这个要求有点奇怪，因为大多数人都想要有家具的房间。\n",
      "“请问你们要租多大的屋子？”我打量着B的光头问。他戴着眼镜，苍白而又腼腆，脸上有种愁苦的模样。\n",
      "一个黑衣男人说：“最小的单元就可以了。一间卧室，带厨房和洗手间。”\n",
      "“请原谅，三个人住这么小的房子是不是太挤了……”我说。\n",
      "黑衣人面无表情，指了指B：“就他自己住。”\n",
      "“好吧，您想租多久？半年还是一年？”我问B。\n",
      "B先生低声说：“一天……”\n",
      "“什么？”我没听清楚。\n",
      "黑衣人说：“租一个月吧。这是你们最短的租期？”\n",
      "“对。”我拿出登记簿，让B写下自己的名字。黑衣人付了一个月租金，然后我带他们上电梯，到了大楼16层的那个小套间。\n",
      "B先生对客厅表示满意，但他抱怨房子的视野太狭窄了。黑衣男人们冷淡地沉默着，把大箱子打开。里面竟装满了简易家具——折叠的帆布衣柜、充气床垫，还有一些换洗衣服。最后，B安顿下来，一个黑衣人看了看表，说：“8月18日了，现在是凌晨0点整。”\n",
      "两个黑衣人走了。我对B说：“早点休息吧，希望您在这里住得愉快。”\n",
      "他点头说：“是啊，愉快……我不会打扰你们太久的。”\n",
      "“您说什么？”\n",
      "一瞬间，他眼睛里流露出虚弱和渴望，好像要说什么。我被吓住了。但他马上恢复了常态，也就是说，恢复了那种腼腆和愁苦的模样。\n",
      "“麻烦你了。请让我休息吧。”他客气地把我送出门外。\n",
      "这就是我记忆中的昨夜。\n",
      "仅隔二十几个小时，B就死在房间里。他死后形容枯槁，看上去老了很多。\n",
      "那两个黑衣人穿过夜雾走进大楼，还带了一位医生模样的人。我现在还不懂，他们是如何预知B先生的死讯的。当他们要我打开那间屋子的门，发现B毫无生气地躺在客厅地下时，他们一点也不惊讶。医生走过去，翻开B的眼皮，然后摸摸他的脖子，转身对两个黑衣人点了点头。\n",
      "“他死了。”\n",
      "他们想抬起B先生的尸体，我拦在门口说：“等一下，我应该去报警。还有，我都没有发现他已经死了，你们是怎么知道的呢？”\n",
      "一个黑衣人走过来，低沉地说：“不必报警。”他拿出一份证件给我看，那是种让人无法怀疑其权威性的身份证明。我沉默了。\n",
      "他们在房间里翻来翻去，把所有简易家具拆开，每一件衣服都抖开来看——我发现那些衣服都很旧，而且都是一模一样的套装。B在这儿住了还不满一天，难道能在房子里藏什么东西吗？最后，他们将屋中的一切装进大提箱，抬起B，消失在门外。只剩我一个人站在四壁皆白、空空如也的房间里。\n",
      "对这个死去的人，我有种奇怪的感觉。我认识他只有二十几个钟头，但却像是多年的老友似的。细究原因，大概是他每次见我都表现出老友一般的熟络。\n",
      "B先生真的有些古怪。他的精力一定非常旺盛，单看外表会被欺骗的，他苍白憔悴，仿佛弱不禁风，但是他整整一天频繁地出入于大楼内外，仅仅被我看见的就有十几次。他好像可以突然间出现在这里，又突然间出现在那里。\n",
      "自从午夜安排好房间，我第一次看见B先生竟是在半分钟后。谁知道他是怎么样飞快地、神不知鬼不觉地下了楼，无声地站在我旁边。\n",
      "我目瞪口呆地盯着他。他眼睛红红的，仿佛换了一个人，急切地问我：“现在怎么样？”\n",
      "“什么怎么样？”我莫名其妙地说。\n",
      "“现在是几点？几号了？”他梦游一样问。\n",
      "我几乎被他吓住，很快地回答：“8月18日凌晨……0点过1分。您是什么时候下来的？”\n",
      "他没有理睬我的问题，呆了呆，说：“哦，是这样……谢谢你。”\"\n",
      "\n",
      "\n",
      "CONCISE SUMMARY:\u001b[0m\n",
      "Prompt after formatting:\n",
      "\u001b[32;1m\u001b[1;3mWrite a concise summary of the following:\n",
      "\n",
      "\n",
      "\"他回去睡了。但早上3点钟，我竟透过窗子看见他在楼外。他佝偻着身子，从雾气里慢慢地移动过来，苍白的脸像一盏昏灯。我赶忙出去，打开玻璃大门。他疲倦地走进来。\n",
      "“您才安顿下来，不好好睡一觉吗？”我说，“是什么时候出去的？”\n",
      "“什么？”他愣了一下，然后说，“哦，我不累。我出去的时候，你没看到？”\n",
      "我迟疑地说：“可是，楼门一直是锁着的啊……”难道他是从十六层的窗户中爬下来的吗？\n",
      "“是么？”他微笑，“你记错了吧。我是从这里出去的。”\n",
      "他的背影蹒跚着走进电梯，我锁好楼门，回到值班室里打盹。\n",
      "早晨七点半，他经过前厅，对我说：“早上好！”\n",
      "“早上好！”我很惊讶，他只睡了这么一会儿，居然有精神出去散步。\n",
      "奇怪的是，只过了几秒钟——至少在我的印象里，只过了很短暂的时间——又看到他经过前厅向楼门外走去。他冲我打招呼，就像刚才没见过面似的：“早上好！”\n",
      "我诧异地望着他，他走出了楼门。\n",
      "大约一个小时后，他乘着一辆出租车停在楼外，慢慢从车上挪出来，疲惫不堪地走进大楼，也不理睬我，直接上了电梯。\n",
      "B先生怎么了？他在外面这一个小时做了什么？我想得走了神，却又看到他微笑着从我面前经过，道了一声：“辛苦！”就去按电梯的按钮。\n",
      "我捧住头，使劲闭上眼睛又睁开。我疯了吗？我的大脑提前老化了吗？我在做梦吗？\n",
      "我在前台上趴了一会儿，想养养精神。一抬头，就看到B愁苦地在大厅里走动着。我下意识地弹了起来！他对我羞涩而凄凉地笑笑：“我丢了件东西……”他茫然地说，“一定要找到，一定要找到……”\n",
      "“您丢了什么？”我问他。\n",
      "他摇摇头，走出了楼门。\n",
      "我跟着他走到门外，身后有只手拍了拍我的肩，真是差一点叫我跳起来！\n",
      "原来是住在1608号的那位老寡妇，她非常神经质，而且，说起来她还是B先生的隔壁邻居。\n",
      "“他叫什么？”她伸出一根瘦得像巫婆的手指头，远远指着B先生的背影。\n",
      "“B。怎么啦？”我问。\n",
      "老太太低声说：“他很怪！”\n",
      "这我知道，但怎么跟她说呢？\n",
      "她看见B消失在拐角，把嘴凑在我耳边说：“刚才我听见他的房子里有人在哭！”\n",
      "“哭？”我觉得她太敏感了。\n",
      "“没错！我趴在门上听到了！”她忽然转向里面，脸上皱起惊恐的纹路。\n",
      "B先生又从里面走出来了。\n",
      "我也百思不解，但是客气地问了一句：“您丢的东西找到了吗？”\n",
      "“什么？”他抬起头来，惊疑地望着我，“什么东西？”\n",
      "真是莫名其妙。\n",
      "他走出楼门。老太太拉着我跟出去，停在阳光下面，悄悄地说：“一个妖怪！”\n",
      "B在远处上了出租车。我转过身，想着老太太的话，无意地向上一瞥。\n",
      "我看见十六楼上，B先生房间的窗内有个人影。我退远几步，用手遮住阳光重新分辨。没错，是他的房间。那个清瘦而衰颓的人影移到了窗帘后面。我吓出一身冷汗。\n",
      "“你看见了？你看见了？”老太太激动地念着。\n",
      "我扯着老太太，在她的心脏和腿脚允许的情况下尽快跑到管理室，拿上电棍，乘电梯上了十六层，在B的门口站住。我们紧张地倾听着。\n",
      "“B先生！您在里面吗？”我轻轻敲门。没有人回答。\n",
      "老太太尖利的手指掐得我生疼。我拿出备用钥匙打开了门，必须搞清楚。我手握电棍，走进宁静狭小的房间。\n",
      "里面空荡荡的。\n",
      "老太太干瘪的嘴唇哆嗦着。“他是个妖怪，他是幽灵……”她惊惶地转动脑袋四处张望，好像这间屋子里真的有什么看不见的幽灵。\n",
      "“我们快离开吧！”她使劲拉我的衣服。我也害怕了。\n",
      "就是这样。我确实在今天一天里看到B先生十几次出入于楼门内外。而且，他的容貌像雾中的猫头鹰一般不可捉摸，一会儿苍老，一会儿又变得比较年轻。他的衣服也时新时旧。这个世界上是没有幽灵的，但我拿不准B先生是什么。\n",
      "快到中午的时候，他拿着一副纸牌走到前厅，要跟我玩一会儿。\"\n",
      "\n",
      "\n",
      "CONCISE SUMMARY:\u001b[0m\n",
      "\n",
      "\u001b[1m> Finished chain.\u001b[0m\n",
      "\n",
      "\n",
      "\u001b[1m> Entering new LLMChain chain...\u001b[0m\n",
      "Prompt after formatting:\n",
      "\u001b[32;1m\u001b[1;3mWrite a concise summary of the following:\n",
      "\n",
      "\n",
      "\"Mr. B moved into a new building and rented a small unfurnished apartment for one day. Two men accompanied him with three large suitcases filled with simple furniture. Less than 24 hours later, Mr. B is found dead in the apartment. When the authorities arrive, they search the apartment and remove all the furniture and belongings. The narrator, who only met Mr. B for a short time, finds his behavior peculiar and is left with a strange feeling about his death.\n",
      "\n",
      "The narrator observes a man, B, who mysteriously appears and disappears multiple times throughout the day. B's appearance and behavior become increasingly strange, leading the narrator and a neighbor to suspect that he may be a ghost or supernatural entity. The narrator ultimately decides to play cards with B.\"\n",
      "\n",
      "\n",
      "CONCISE SUMMARY:\u001b[0m\n",
      "\n",
      "\u001b[1m> Finished chain.\u001b[0m\n",
      "\n",
      "\u001b[1m> Finished chain.\u001b[0m\n"
     ]
    }
   ],
   "source": [
    "rr = chain.run(input_documents=input_docs)"
   ]
  },
  {
   "cell_type": "code",
   "execution_count": 109,
   "metadata": {
    "ExecuteTime": {
     "end_time": "2023-09-10T03:47:10.921388Z",
     "start_time": "2023-09-10T03:47:10.918101Z"
    }
   },
   "outputs": [
    {
     "data": {
      "text/plain": [
       "'Mr. B moves into a new apartment, accompanied by two men and three suitcases of furniture. Less than a day later, he is found dead and his belongings are removed. The narrator finds his behavior peculiar and suspects he may be a ghost, but ultimately decides to play cards with him.'"
      ]
     },
     "execution_count": 109,
     "metadata": {},
     "output_type": "execute_result"
    }
   ],
   "source": [
    "rr"
   ]
  },
  {
   "cell_type": "code",
   "execution_count": null,
   "metadata": {},
   "outputs": [],
   "source": []
  },
  {
   "cell_type": "code",
   "execution_count": null,
   "metadata": {},
   "outputs": [],
   "source": []
  },
  {
   "cell_type": "code",
   "execution_count": null,
   "metadata": {},
   "outputs": [],
   "source": []
  },
  {
   "cell_type": "code",
   "execution_count": 72,
   "metadata": {
    "ExecuteTime": {
     "end_time": "2023-09-09T12:11:06.452963Z",
     "start_time": "2023-09-09T12:11:06.449929Z"
    }
   },
   "outputs": [
    {
     "name": "stdout",
     "output_type": "stream",
     "text": [
      "Title: \"The Mysterious Journey of Mr. B\"\n",
      "\n",
      "INT. APARTMENT BUILDING - DAY\n",
      "\n",
      "We see MR. B, a frail and troubled man, walking through the lobby. He appears both fragile and surprisingly energetic, exhibiting odd behaviors like appearing and disappearing unexpectedly. Two men in black clothes, known as the BLACK-CLOTHED MEN, interact with him, seemingly exerting control over him. Curiosity and suspicion arise following Mr. B's sudden death, leading people to discover a hidden message he left behind. \n",
      "\n",
      "EXT. APARTMENT BUILDING - DAY\n",
      "\n",
      "Mr. B walks out of the building, leaving the protagonist, an OBSERVER, puzzled. The OBSERVER is intrigued by Mr. B's mysterious behavior and decides to follow him outside. As they step outside, the OBSERVER is startled by a tap on their shoulder. It's the elderly widow from apartment 1608, Mr. B's neighbor. She appears nervous and points at Mr. B, whispering about his strange demeanor. She shares that she heard someone crying inside his apartment earlier.\n",
      "\n",
      "INT. MR. B's APARTMENT - DAY\n",
      "\n",
      "The OBSERVER, accompanied by the elderly widow, cautiously enters Mr. B's apartment. They find it empty and echoingly silent. The widow becomes increasingly agitated, claiming that Mr. B is a monster, a ghost. The OBSERVER, feeling a sense of unease, decides to investigate further.\n",
      "\n",
      "INT. APARTMENT BUILDING - DAY\n",
      "\n",
      "Later in the day, the OBSERVER witnesses Mr. B playing card tricks in the lobby. Astonishingly, Mr. B remembers the position of every card, leaving the OBSERVER in awe. Mr. B advises the OBSERVER to buy polarized glasses, claiming that they can reveal the extraordinary in seemingly ordinary situations. The OBSERVER follows his advice and discovers hidden markings on the back of the cards, leaving them wondering about Mr. B's intentions.\n",
      "\n",
      "INT. APARTMENT BUILDING - NIGHT\n",
      "\n",
      "On a sunny afternoon, the OBSERVER engages in a conversation with Mr. B outside the building. Mr. B fixates on a street lamp, expressing a peculiar concern about its existence. The OBSERVER reassures him that the lamp has always been there, but Mr. B questions if it has ever been shattered and reassembled itself. The OBSERVER becomes unnerved by Mr. B's words.\n",
      "\n",
      "INT. MR. B's APARTMENT - NIGHT\n",
      "\n",
      "After Mr. B's death, the BLACK-CLOTHED MEN remove his body and belongings from the apartment. The OBSERVER is left alone in the room, feeling drawn to the space and sensing Mr. B's presence. Suddenly, the OBSERVER remembers the polarized glasses and decides to put them on. To their astonishment, the walls are covered in writing, revealing a chilling story written by Mr. B, who sensed his impending death.\n",
      "\n",
      "FADE OUT.\n"
     ]
    }
   ],
   "source": [
    "print(result['output_text'])"
   ]
  },
  {
   "cell_type": "code",
   "execution_count": null,
   "metadata": {},
   "outputs": [],
   "source": []
  },
  {
   "cell_type": "code",
   "execution_count": null,
   "metadata": {},
   "outputs": [],
   "source": []
  },
  {
   "cell_type": "code",
   "execution_count": null,
   "metadata": {},
   "outputs": [],
   "source": [
    "prompt_template = \"\"\"Write a concise summary of the following:\n",
    "{text}\n",
    "CONCISE SUMMARY:\"\"\"\n",
    "prompt = PromptTemplate.from_template(prompt_template)\n",
    "\n",
    "refine_template = (\n",
    "    \"Your job is to produce a camera script\\n\"\n",
    "    \"We have provided an existing summary up to a certain point: {existing_answer}\\n\"\n",
    "    \"You need to add the previous summary onto the new summary \"\n",
    "    \"(only if needed) with some more context below.\\n\"\n",
    "    \"------------\\n\"\n",
    "    \"{text}\\n\"\n",
    "    \"------------\\n\"\n",
    "    \"Given the new context, refine the whole camera script. Remember, it can be longer. \"\n",
    "    \"If the context isn't useful, return the original script.\"\n",
    ")\n",
    "refine_prompt = PromptTemplate.from_template(refine_template)\n",
    "chain = load_summarize_chain(\n",
    "    llm=llm,\n",
    "    chain_type=\"refine\",\n",
    "    question_prompt=prompt,\n",
    "    refine_prompt=refine_prompt,\n",
    "    return_intermediate_steps=True,\n",
    "    input_key=\"input_documents\",\n",
    "    output_key=\"output_text\",\n",
    ")\n",
    "result = chain({\"input_documents\": split_docs})"
   ]
  }
 ],
 "metadata": {
  "kernelspec": {
   "display_name": "game",
   "language": "python",
   "name": "game"
  },
  "language_info": {
   "codemirror_mode": {
    "name": "ipython",
    "version": 3
   },
   "file_extension": ".py",
   "mimetype": "text/x-python",
   "name": "python",
   "nbconvert_exporter": "python",
   "pygments_lexer": "ipython3",
   "version": "3.10.12"
  },
  "varInspector": {
   "cols": {
    "lenName": 16,
    "lenType": 16,
    "lenVar": 40
   },
   "kernels_config": {
    "python": {
     "delete_cmd_postfix": "",
     "delete_cmd_prefix": "del ",
     "library": "var_list.py",
     "varRefreshCmd": "print(var_dic_list())"
    },
    "r": {
     "delete_cmd_postfix": ") ",
     "delete_cmd_prefix": "rm(",
     "library": "var_list.r",
     "varRefreshCmd": "cat(var_dic_list()) "
    }
   },
   "types_to_exclude": [
    "module",
    "function",
    "builtin_function_or_method",
    "instance",
    "_Feature"
   ],
   "window_display": false
  }
 },
 "nbformat": 4,
 "nbformat_minor": 4
}
