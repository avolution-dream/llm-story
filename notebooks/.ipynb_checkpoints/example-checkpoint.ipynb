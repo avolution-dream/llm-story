{
 "cells": [
  {
   "cell_type": "code",
   "execution_count": 13,
   "metadata": {
    "ExecuteTime": {
     "end_time": "2023-09-04T11:15:34.931990Z",
     "start_time": "2023-09-04T11:15:34.928665Z"
    }
   },
   "outputs": [],
   "source": [
    "import json\n",
    "import openai\n",
    "import nest_asyncio\n",
    "from typing import Dict\n",
    "from instructor import patch\n",
    "from pydantic import BaseModel, Field\n",
    "from pydantic.json import pydantic_encoder\n",
    "patch()\n",
    "nest_asyncio.apply()"
   ]
  },
  {
   "cell_type": "code",
   "execution_count": 22,
   "metadata": {
    "ExecuteTime": {
     "end_time": "2023-09-04T11:25:59.892999Z",
     "start_time": "2023-09-04T11:25:59.890479Z"
    }
   },
   "outputs": [],
   "source": [
    "story_prompt_path = '../prompts/stories/example.txt'\n",
    "instruction_prompt_path = '../prompts/instructions/character.txt'"
   ]
  },
  {
   "cell_type": "code",
   "execution_count": 24,
   "metadata": {
    "ExecuteTime": {
     "end_time": "2023-09-04T11:26:26.818174Z",
     "start_time": "2023-09-04T11:26:17.040323Z"
    }
   },
   "outputs": [],
   "source": [
    "# ###########################\n",
    "# Helpers\n",
    "# ###########################\n",
    "class Features(BaseModel):\n",
    "    species: str = \"N/A\"\n",
    "    gender: str = \"N/A\"\n",
    "    occupation: str = \"N/A\"\n",
    "    age: str = \"N/A\"\n",
    "    disposition: str = \"N/A\"\n",
    "    traits: str = \"N/A\"\n",
    "\n",
    "        \n",
    "class Appearance(BaseModel):\n",
    "    height: str = \"N/A\"\n",
    "    weight: str = \"N/A\"\n",
    "    hair_color: str = \"N/A\"\n",
    "    eye_color: str = \"N/A\"\n",
    "    skin_color: str = \"N/A\"\n",
    "\n",
    "        \n",
    "class Character(BaseModel):\n",
    "    name: str = \"N/A\"\n",
    "    features: Features = Field(default_factory=Features)\n",
    "    appearance: Appearance = Field(default_factory=Appearance)\n",
    "\n",
    "        \n",
    "class CharacterSummary(BaseModel):\n",
    "    characters: Dict[str, Character] = Field(default_factory=dict)\n",
    "\n",
    "\n",
    "def read_file(file_path):\n",
    "    try:\n",
    "        with open(file_path, 'r') as f:\n",
    "            return f.read()\n",
    "        \n",
    "    except FileNotFoundError:\n",
    "        return f\"File at {file_path} not found.\"\n",
    "\n",
    "    except Exception as e:\n",
    "        return str(e)\n",
    "\n",
    "        \n",
    "# ###########################\n",
    "# The Prompts\n",
    "# ###########################\n",
    "# Read file\n",
    "story = read_file(story_prompt_path)\n",
    "instruction = read_file(instruction_prompt_path)\n",
    "\n",
    "# Complete prompt\n",
    "complete_prompt = f'{story}\\n{instruction}'\n",
    "\n",
    "\n",
    "# ###########################\n",
    "# The API Call\n",
    "# ###########################\n",
    "ans = openai.ChatCompletion.create(\n",
    "    model=\"gpt-3.5-turbo\",\n",
    "    messages=[\n",
    "        {\"role\": \"user\", \n",
    "         \"content\": complete_prompt},\n",
    "    ],\n",
    ") \n",
    "\n",
    "\n",
    "# ###########################\n",
    "# Validate the result\n",
    "# ###########################\n",
    "content_str = ans['choices'][0]['message']['content']\n",
    "content_str_json_compatible = content_str.replace(\"'\", \"\\\"\")\n",
    "content_dict = eval(content_str_json_compatible)\n",
    "content_dict = json.loads(content_str_json_compatible)\n",
    "validated_output = CharacterSummary(characters=content_dict)\n",
    "\n",
    "json_str = json.dumps(validated_output.model_dump(), \n",
    "                      default=pydantic_encoder, \n",
    "                      indent=4)\n",
    "\n",
    "with open('../results/example.json', 'w') as f:\n",
    "    f.write(json_str)"
   ]
  },
  {
   "cell_type": "code",
   "execution_count": 26,
   "metadata": {
    "ExecuteTime": {
     "end_time": "2023-09-04T11:26:43.725453Z",
     "start_time": "2023-09-04T11:26:43.720506Z"
    }
   },
   "outputs": [
    {
     "data": {
      "text/plain": [
       "{'characters': {'Alice': {'name': 'Alice',\n",
       "   'features': {'species': 'N/A',\n",
       "    'gender': 'N/A',\n",
       "    'occupation': 'Engineer',\n",
       "    'age': '25',\n",
       "    'disposition': 'N/A',\n",
       "    'traits': 'Highly intellectual, loves solving puzzles'},\n",
       "   'appearance': {'height': 'N/A',\n",
       "    'weight': 'N/A',\n",
       "    'hair_color': 'Brown',\n",
       "    'eye_color': 'Blue',\n",
       "    'skin_color': 'N/A'}},\n",
       "  'Bob': {'name': 'Bob',\n",
       "   'features': {'species': 'N/A',\n",
       "    'gender': 'N/A',\n",
       "    'occupation': 'Artist',\n",
       "    'age': '30',\n",
       "    'disposition': 'N/A',\n",
       "    'traits': 'Creative, outgoing'},\n",
       "   'appearance': {'height': 'N/A',\n",
       "    'weight': 'N/A',\n",
       "    'hair_color': 'Black',\n",
       "    'eye_color': 'Green',\n",
       "    'skin_color': 'N/A'}}}}"
      ]
     },
     "execution_count": 26,
     "metadata": {},
     "output_type": "execute_result"
    }
   ],
   "source": [
    "# Check the results\n",
    "validated_output.model_dump()"
   ]
  }
 ],
 "metadata": {
  "kernelspec": {
   "display_name": "game",
   "language": "python",
   "name": "game"
  },
  "language_info": {
   "codemirror_mode": {
    "name": "ipython",
    "version": 3
   },
   "file_extension": ".py",
   "mimetype": "text/x-python",
   "name": "python",
   "nbconvert_exporter": "python",
   "pygments_lexer": "ipython3",
   "version": "3.10.12"
  },
  "varInspector": {
   "cols": {
    "lenName": 16,
    "lenType": 16,
    "lenVar": 40
   },
   "kernels_config": {
    "python": {
     "delete_cmd_postfix": "",
     "delete_cmd_prefix": "del ",
     "library": "var_list.py",
     "varRefreshCmd": "print(var_dic_list())"
    },
    "r": {
     "delete_cmd_postfix": ") ",
     "delete_cmd_prefix": "rm(",
     "library": "var_list.r",
     "varRefreshCmd": "cat(var_dic_list()) "
    }
   },
   "types_to_exclude": [
    "module",
    "function",
    "builtin_function_or_method",
    "instance",
    "_Feature"
   ],
   "window_display": false
  }
 },
 "nbformat": 4,
 "nbformat_minor": 4
}
