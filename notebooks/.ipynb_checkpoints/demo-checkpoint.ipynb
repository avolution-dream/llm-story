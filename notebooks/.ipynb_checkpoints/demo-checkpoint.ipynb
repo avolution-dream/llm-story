{
 "cells": [
  {
   "cell_type": "code",
   "execution_count": 104,
   "metadata": {
    "ExecuteTime": {
     "end_time": "2023-09-06T12:17:08.036850Z",
     "start_time": "2023-09-06T12:17:08.033334Z"
    }
   },
   "outputs": [],
   "source": [
    "import json\n",
    "import openai\n",
    "import nest_asyncio\n",
    "from typing import Dict\n",
    "from pathlib import Path\n",
    "from instructor import patch\n",
    "from pydantic import BaseModel, Field\n",
    "from pydantic.json import pydantic_encoder\n",
    "patch()\n",
    "nest_asyncio.apply()"
   ]
  },
  {
   "cell_type": "code",
   "execution_count": 105,
   "metadata": {
    "ExecuteTime": {
     "end_time": "2023-09-06T12:17:08.488471Z",
     "start_time": "2023-09-06T12:17:08.485640Z"
    }
   },
   "outputs": [],
   "source": [
    "story_name = 'one-day-prisoner'\n",
    "story_path = Path('../prompts/stories')\n",
    "result_path = Path('../results')\n",
    "instruction_path = Path('../prompts/instructions')"
   ]
  },
  {
   "cell_type": "code",
   "execution_count": 121,
   "metadata": {
    "ExecuteTime": {
     "end_time": "2023-09-06T12:21:03.991749Z",
     "start_time": "2023-09-06T12:21:03.988762Z"
    }
   },
   "outputs": [],
   "source": [
    "model_name = 'gpt-3.5-turbo-16k'\n",
    "max_tokens = 2048\n",
    "stop = None\n",
    "temperature = 0.5\n",
    "language = 'Chinese'"
   ]
  },
  {
   "cell_type": "code",
   "execution_count": 107,
   "metadata": {
    "ExecuteTime": {
     "end_time": "2023-09-06T12:17:20.370639Z",
     "start_time": "2023-09-06T12:17:20.367660Z"
    }
   },
   "outputs": [],
   "source": [
    "story_path = story_path / f'{story_name}.txt'\n",
    "character_prompt_path = instruction_path / 'character.txt'\n",
    "storyboard_prompt_path = instruction_path / 'storyboard.txt'\n",
    "character_result_path = result_path / f'{story_name}_character.txt'\n",
    "storyboard_result_path = result_path / f'{story_name}_storyboard.txt'"
   ]
  },
  {
   "cell_type": "code",
   "execution_count": 110,
   "metadata": {
    "ExecuteTime": {
     "end_time": "2023-09-06T12:17:21.355978Z",
     "start_time": "2023-09-06T12:17:21.352458Z"
    }
   },
   "outputs": [],
   "source": [
    "def load_text(file_path):\n",
    "    with open(file_path, 'r') as file:\n",
    "        return file.read()\n",
    "\n",
    "def save_text(response, output_file):\n",
    "    with open(output_file, 'w') as file:\n",
    "        file.write(response + '\\n')"
   ]
  },
  {
   "cell_type": "code",
   "execution_count": 111,
   "metadata": {
    "ExecuteTime": {
     "end_time": "2023-09-06T12:17:21.700412Z",
     "start_time": "2023-09-06T12:17:21.696396Z"
    }
   },
   "outputs": [],
   "source": [
    "def call_openai_api(history, \n",
    "                    content,\n",
    "                    model_name: str='gpt-3.5-turbo-16k',\n",
    "                    max_tokens: int=2048,\n",
    "                    stop: str=None,\n",
    "                    temperature: float=0.5):\n",
    "    \n",
    "    history.append({'role': 'user', \n",
    "                    'content': content})\n",
    "    \n",
    "    response = openai.ChatCompletion.create(\n",
    "        model=model_name,\n",
    "        messages=history,\n",
    "        max_tokens=max_tokens,\n",
    "        stop=stop,\n",
    "        temperature=temperature,\n",
    "    )\n",
    "    \n",
    "    return response.choices[0]['message']['content'].strip()"
   ]
  },
  {
   "cell_type": "code",
   "execution_count": 112,
   "metadata": {
    "ExecuteTime": {
     "end_time": "2023-09-06T12:17:22.213396Z",
     "start_time": "2023-09-06T12:17:22.210201Z"
    }
   },
   "outputs": [],
   "source": [
    "def split_into_chunks(text, tokens=500):\n",
    "    chunks = []\n",
    "    \n",
    "    for i in range(0, len(text), tokens):\n",
    "        chunks.append(text[i:i + tokens])\n",
    "        \n",
    "    return chunks"
   ]
  },
  {
   "cell_type": "code",
   "execution_count": 134,
   "metadata": {
    "ExecuteTime": {
     "end_time": "2023-09-06T12:44:54.824357Z",
     "start_time": "2023-09-06T12:44:54.818464Z"
    }
   },
   "outputs": [],
   "source": [
    "def process_story(story_path, \n",
    "                  character_prompt_path,\n",
    "                  storyboard_prompt_path,\n",
    "                  model_name: str='gpt-3.5-turbo-16k',\n",
    "                  max_tokens: int=4096,\n",
    "                  stop: str=None,\n",
    "                  temperature: float=0.5,\n",
    "                  language: str='Chinese'):\n",
    "    \n",
    "    story = load_text(story_path)\n",
    "    chunks = split_into_chunks(story)\n",
    "    \n",
    "    # Initialize the conversation history\n",
    "    history = [{'role': 'system', \n",
    "                'content': 'You are a helpful assistant.'},\n",
    "               {'role': 'system',\n",
    "                'content': 'Below is the long text provided by the user.'}]\n",
    "    \n",
    "    if language != 'English':\n",
    "        history.append({'role': 'system',\n",
    "                        'content': f'Please translate all your response in {language}'})\n",
    "    \n",
    "    # Add each chunk as a user message to history\n",
    "    for chunk in chunks:\n",
    "        history.append({'role': 'user', \n",
    "                        'content': chunk})\n",
    "\n",
    "    character_prompt = load_text(character_prompt_path)\n",
    "    storyboard_prompt = load_text(storyboard_prompt_path)\n",
    "    \n",
    "    print('The model is getting the summary.')\n",
    "    \n",
    "    # Task 1: Summarize characters\n",
    "    character_summary = call_openai_api(history, character_prompt, model_name, \n",
    "                                        max_tokens, stop, temperature)\n",
    "    \n",
    "    # Update the history to include the character summary\n",
    "    history.append({'role': 'assistant', \n",
    "                    'content': character_summary})\n",
    "    \n",
    "    print('The model is getting the storyboard script.')\n",
    "    \n",
    "    # Task 2: Generate storyboard script\n",
    "    storyboard_script = call_openai_api(history, storyboard_prompt, model_name, \n",
    "                                        max_tokens, stop, temperature)\n",
    "    \n",
    "    # Save to output file\n",
    "    return character_summary, storyboard_script"
   ]
  },
  {
   "cell_type": "code",
   "execution_count": 135,
   "metadata": {
    "ExecuteTime": {
     "end_time": "2023-09-06T12:46:44.655924Z",
     "start_time": "2023-09-06T12:44:56.459479Z"
    }
   },
   "outputs": [
    {
     "name": "stdout",
     "output_type": "stream",
     "text": [
      "The model is getting the summary.\n",
      "The model is getting the storyboard script.\n"
     ]
    }
   ],
   "source": [
    "character_summary, storyboard_script = process_story(story_path, \n",
    "                                                     character_prompt_path,\n",
    "                                                     storyboard_prompt_path,\n",
    "                                                     model_name,\n",
    "                                                     max_tokens,\n",
    "                                                     stop, \n",
    "                                                     temperature,\n",
    "                                                     language)"
   ]
  },
  {
   "cell_type": "code",
   "execution_count": 130,
   "metadata": {
    "ExecuteTime": {
     "end_time": "2023-09-06T12:31:33.242635Z",
     "start_time": "2023-09-06T12:29:27.185363Z"
    }
   },
   "outputs": [
    {
     "name": "stdout",
     "output_type": "stream",
     "text": [
      "The model is getting the summary.\n",
      "The model is getting the storyboard script.\n"
     ]
    }
   ],
   "source": [
    "character_summary, storyboard_script = process_story(story_path, \n",
    "                                                     character_prompt_path,\n",
    "                                                     storyboard_prompt_path,\n",
    "                                                     model_name,\n",
    "                                                     max_tokens,\n",
    "                                                     stop, \n",
    "                                                     temperature,\n",
    "                                                     language)"
   ]
  },
  {
   "cell_type": "code",
   "execution_count": 138,
   "metadata": {
    "ExecuteTime": {
     "end_time": "2023-09-06T12:48:21.308197Z",
     "start_time": "2023-09-06T12:48:21.304183Z"
    }
   },
   "outputs": [],
   "source": [
    "save_text(storyboard_script, storyboard_result_path)\n",
    "save_text(character_summary, character_result_path)"
   ]
  },
  {
   "cell_type": "code",
   "execution_count": 137,
   "metadata": {
    "ExecuteTime": {
     "end_time": "2023-09-06T12:47:47.968949Z",
     "start_time": "2023-09-06T12:47:47.965987Z"
    }
   },
   "outputs": [
    {
     "name": "stdout",
     "output_type": "stream",
     "text": [
      "{\n",
      "  'B先生': {\n",
      "    'Name': 'B先生',\n",
      "    'High-Level Synopsis': 'B先生是一个被困在时间循环中的人，每天都重复着同样的一天。他的存在对于故事的发展和主题非常重要，引发了关于时间、困境和自我意识的思考。',\n",
      "    'Appearance and Attire': {\n",
      "      'Physical Features': '苍白而腼腆的面容，戴眼镜，光头',\n",
      "      'Clothing': '黑衣'\n",
      "    },\n",
      "    'Psychological Profile': 'B先生表现出腼腆、愁苦、渴望和绝望的情绪。他在困境中经历了情绪的起伏，从最初的好奇和探索，到后来的愤怒、绝望和疯狂。',\n",
      "    'Socio-Cultural Context': '没有提供足够的信息',\n",
      "    'Relationships': {\n",
      "      '管理员': '与管理员有几次互动，管理员成为他唯一的交流对象'\n",
      "    },\n",
      "    'Key Moments': {\n",
      "      '租房': 'B先生租下了一间小套房，开始了他的时间囚徒生活',\n",
      "      '循环突破尝试': 'B先生试图打破时间循环，进行了一系列实验和行动，包括故意改变行为和观察他人的反应',\n",
      "      '心灵的思考': 'B先生在困境中开始思考时间和自我意识的问题，对自己的存在和世界的本质有了更深层次的思考'\n",
      "    },\n",
      "    'Additional Nuances': {\n",
      "      '时间囚徒': 'B先生被困在时间循环中，每天重复着同样的一天，他的存在和行为受到时间的限制和影响'\n",
      "    }\n",
      "  },\n",
      "  '管理员': {\n",
      "    'Name': '管理员',\n",
      "    'High-Level Synopsis': '管理员是大楼里的管理人员，成为B先生唯一的交流对象。他在B先生的困境中起到了观察者和支持者的角色。',\n",
      "    'Appearance and Attire': {\n",
      "      'Physical Features': '没有提供足够的信息',\n",
      "      'Clothing': '没有提供足够的信息'\n",
      "    },\n",
      "    'Psychological Profile': '管理员表现出关心和好奇的态度，对B先生的行为和困境感到惊讶和疑惑。',\n",
      "    'Socio-Cultural Context': '没有提供足够的信息',\n",
      "    'Relationships': {\n",
      "      'B先生': '管理员成为B先生唯一的交流对象，他们之间建立了一种特殊的关系'\n",
      "    },\n",
      "    'Key Moments': {\n",
      "      '租房': '管理员帮助B先生租下了房间，并成为他的主要接触人',\n",
      "      '循环突破尝试': '管理员观察和支持B先生的循环突破尝试，提供了一些帮助和理解'\n",
      "    },\n",
      "    'Additional Nuances': {}\n",
      "  }\n",
      "}\n"
     ]
    }
   ],
   "source": [
    "print(character_summary)"
   ]
  },
  {
   "cell_type": "code",
   "execution_count": 136,
   "metadata": {
    "ExecuteTime": {
     "end_time": "2023-09-06T12:47:25.683848Z",
     "start_time": "2023-09-06T12:47:25.680883Z"
    }
   },
   "outputs": [
    {
     "name": "stdout",
     "output_type": "stream",
     "text": [
      "{\n",
      "  'Scene 1': {\n",
      "    'Text-to-Image Prompt': 'B先生租下小套房，黑衣男子陪同，管理员办理手续。',\n",
      "    'Camera Angle': 'Wide shot',\n",
      "    'Environment': 'Interior of the building, a small room with minimal furniture',\n",
      "    'Characters Present': 'B先生, 黑衣男子, 管理员',\n",
      "    'Visual Design': 'Dimly lit room, sparse furniture, a desk with paperwork',\n",
      "    'Dialogue': 'B先生: \"我想租一间不带家具的房子。\" 管理员: \"请填写这份租约。\"',\n",
      "    'Sound Elements': 'Subtle background music, low volume',\n",
      "    'Emotional Atmosphere': 'Tense, mysterious'\n",
      "  },\n",
      "  'Scene 2': {\n",
      "    'Text-to-Image Prompt': 'B先生抱怨房子的视野狭窄。',\n",
      "    'Camera Angle': 'Medium shot',\n",
      "    'Environment': 'Interior of the small room',\n",
      "    'Characters Present': 'B先生, 黑衣男子',\n",
      "    'Visual Design': 'Foldable canvas wardrobe, inflatable mattress, limited space',\n",
      "    'Dialogue': 'B先生: \"房子的视野太狭窄了。\" 黑衣男子: \"这是你们最短的租期吗？\"',\n",
      "    'Sound Elements': 'Silence',\n",
      "    'Emotional Atmosphere': 'Uneasy, claustrophobic'\n",
      "  },\n",
      "  'Scene 3': {\n",
      "    'Text-to-Image Prompt': 'B先生对管理员表示感谢，并请他离开。',\n",
      "    'Camera Angle': 'Close-up',\n",
      "    'Environment': 'Interior of the small room',\n",
      "    'Characters Present': 'B先生, 管理员',\n",
      "    'Visual Design': 'B先生's gratitude expressed through facial expressions',\n",
      "    'Dialogue': 'B先生: \"谢谢你。请让我休息吧。\" 管理员: \"好的，祝您住得愉快。\"',\n",
      "    'Sound Elements': 'Subtle background music, low volume',\n",
      "    'Emotional Atmosphere': 'Grateful, somber'\n",
      "  },\n",
      "  'Scene 4': {\n",
      "    'Text-to-Image Prompt': 'B先生死后，黑衣男子和医生进入房间。',\n",
      "    'Camera Angle': 'Wide shot',\n",
      "    'Environment': 'Interior of the small room',\n",
      "    'Characters Present': '黑衣男子, 医生',\n",
      "    'Visual Design': 'Lifeless body of B先生 lying on the floor',\n",
      "    'Dialogue': '医生: \"他死了。\" 黑衣男子: \"我们需要搬走他的尸体。\"',\n",
      "    'Sound Elements': 'Eerie silence',\n",
      "    'Emotional Atmosphere': 'Shock, somber'\n",
      "  },\n",
      "  'Scene 5': {\n",
      "    'Text-to-Image Prompt': '管理员质疑黑衣男子关于B先生的死的情况。',\n",
      "    'Camera Angle': 'Medium shot',\n",
      "    'Environment': 'Interior of the small room',\n",
      "    'Characters Present': '管理员, 黑衣男子',\n",
      "    'Visual Design': 'Administrator's suspicious expression',\n",
      "    'Dialogue': '管理员: \"你们是怎么知道他已经死了的？\" 黑衣男子: \"不必报警。\"',\n",
      "    'Sound Elements': 'Tense background music',\n",
      "    'Emotional Atmosphere': 'Suspicion, intrigue'\n",
      "  },\n",
      "  'Scene 6': {\n",
      "    'Text-to-Image Prompt': '黑衣男子和医生搜寻房间，整理B先生的物品。',\n",
      "    'Camera Angle': 'Over-the-shoulder shot',\n",
      "    'Environment': 'Interior of the small room',\n",
      "    'Characters Present': '黑衣男子, 医生',\n",
      "    'Visual Design': 'Opening of suitcases, revealing basic furnishings and clothes',\n",
      "    'Dialogue': '医生: \"他的物品都很简单。\" 黑衣男子: \"我们把一切都带走。\"',\n",
      "    'Sound Elements': 'Subtle rustling sounds',\n",
      "    'Emotional Atmosphere': 'Meticulous, secretive'\n",
      "  },\n",
      "  'Scene 7': {\n",
      "    'Text-to-Image Prompt': '管理员站在空荡的房间中，思考B先生的存在。',\n",
      "    'Camera Angle': 'Medium shot',\n",
      "    'Environment': 'Interior of the empty room',\n",
      "    'Characters Present': '管理员',\n",
      "    'Visual Design': 'Empty room with white walls',\n",
      "    'Dialogue': 'None',\n",
      "    'Sound Elements': 'Subtle background music',\n",
      "    'Emotional Atmosphere': 'Pensive, contemplative'\n",
      "  }\n",
      "}\n"
     ]
    }
   ],
   "source": [
    "print(storyboard_script)"
   ]
  }
 ],
 "metadata": {
  "kernelspec": {
   "display_name": "game",
   "language": "python",
   "name": "game"
  },
  "language_info": {
   "codemirror_mode": {
    "name": "ipython",
    "version": 3
   },
   "file_extension": ".py",
   "mimetype": "text/x-python",
   "name": "python",
   "nbconvert_exporter": "python",
   "pygments_lexer": "ipython3",
   "version": "3.10.12"
  },
  "varInspector": {
   "cols": {
    "lenName": 16,
    "lenType": 16,
    "lenVar": 40
   },
   "kernels_config": {
    "python": {
     "delete_cmd_postfix": "",
     "delete_cmd_prefix": "del ",
     "library": "var_list.py",
     "varRefreshCmd": "print(var_dic_list())"
    },
    "r": {
     "delete_cmd_postfix": ") ",
     "delete_cmd_prefix": "rm(",
     "library": "var_list.r",
     "varRefreshCmd": "cat(var_dic_list()) "
    }
   },
   "types_to_exclude": [
    "module",
    "function",
    "builtin_function_or_method",
    "instance",
    "_Feature"
   ],
   "window_display": false
  }
 },
 "nbformat": 4,
 "nbformat_minor": 4
}
