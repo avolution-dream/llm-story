{
 "cells": [
  {
   "cell_type": "code",
   "execution_count": 1,
   "metadata": {
    "ExecuteTime": {
     "end_time": "2023-11-26T00:23:54.473214Z",
     "start_time": "2023-11-26T00:23:54.050925Z"
    }
   },
   "outputs": [],
   "source": [
    "import json\n",
    "import openai\n",
    "import argparse\n",
    "import nest_asyncio\n",
    "from typing import Dict\n",
    "from pathlib import Path\n",
    "from instructor import patch\n",
    "from datetime import datetime\n",
    "from pydantic import BaseModel, Field\n",
    "from pydantic.json import pydantic_encoder\n",
    "patch()"
   ]
  },
  {
   "cell_type": "code",
   "execution_count": 36,
   "metadata": {
    "ExecuteTime": {
     "end_time": "2023-11-26T00:42:58.941999Z",
     "start_time": "2023-11-26T00:42:58.932477Z"
    }
   },
   "outputs": [
    {
     "data": {
      "text/plain": [
       "_StoreAction(option_strings=['-st', '--storyboard_filename'], dest='storyboard_filename', nargs=None, const=None, default='storyboard_test.txt', type=<class 'str'>, choices=None, required=False, help=None, metavar=None)"
      ]
     },
     "execution_count": 36,
     "metadata": {},
     "output_type": "execute_result"
    }
   ],
   "source": [
    "parser = argparse.ArgumentParser()\n",
    "\n",
    "# Arguments\n",
    "parser.add_argument('-sn', '--story_name', type=str, default='a-minor-fate')\n",
    "parser.add_argument('-sp', '--story_path', type=str, default='./scraping/flash-fiction-library/fantasy')\n",
    "parser.add_argument('-rp', '--result_path', type=str, default='./results')\n",
    "parser.add_argument('-is', '--instruction_path', type=str, default='./prompts/instructions')\n",
    "parser.add_argument('-mn', '--model_name', type=str, default='gpt-4-1106-preview')\n",
    "parser.add_argument('-mt', '--max_tokens', type=int, default=4096)\n",
    "parser.add_argument('-mts', '--max_tokens_storyboard', type=int, default=4096)\n",
    "parser.add_argument('-s', '--stop', type=str, default=None)\n",
    "parser.add_argument('-t', '--temperature', type=float, default=0.5)\n",
    "parser.add_argument('-l', '--language', type=str, default='Chinese')\n",
    "parser.add_argument('-sv', '--save_time', action='store_true',\n",
    "                    help='Flag to add current time in filename.')\n",
    "parser.add_argument('-sm', '--summary_filename', type=str,\n",
    "                    default='summary_test.txt')\n",
    "parser.add_argument('-st', '--storyboard_filename', type=str,\n",
    "                    default='storyboard_test.txt')"
   ]
  },
  {
   "cell_type": "code",
   "execution_count": 37,
   "metadata": {
    "ExecuteTime": {
     "end_time": "2023-11-26T00:42:59.414380Z",
     "start_time": "2023-11-26T00:42:59.410700Z"
    }
   },
   "outputs": [],
   "source": [
    "# Parse the argument\n",
    "# The '' string is only for notebook; should be empty in python scripts\n",
    "p = parser.parse_args('')  \n",
    "\n",
    "# Set the argument\n",
    "for key, value in vars(p).items():\n",
    "    globals()[key] = value\n",
    "\n",
    "# Set paths\n",
    "story_path = Path(story_path)\n",
    "result_path = Path(result_path)\n",
    "instruction_path = Path(instruction_path)"
   ]
  },
  {
   "cell_type": "code",
   "execution_count": 38,
   "metadata": {
    "ExecuteTime": {
     "end_time": "2023-11-26T00:42:59.778612Z",
     "start_time": "2023-11-26T00:42:59.774817Z"
    }
   },
   "outputs": [],
   "source": [
    "# Configure the time to be added in the resulted filename\n",
    "if p.save_time:\n",
    "    save_time = '-' + datetime.now().strftime('%Y-%m-%d-%H-%M')\n",
    "else:\n",
    "    save_time = ''\n",
    "\n",
    "# Configure the path\n",
    "story_path = story_path / f'{story_name}.txt'\n",
    "character_prompt_path = instruction_path / p.summary_filename\n",
    "storyboard_prompt_path = instruction_path / p.storyboard_filename\n",
    "character_result_path = result_path / f'{story_name}{save_time}_test_summary.txt'\n",
    "storyboard_result_path = result_path / f'{story_name}{save_time}_test_storyboard.txt'"
   ]
  },
  {
   "cell_type": "code",
   "execution_count": 39,
   "metadata": {
    "ExecuteTime": {
     "end_time": "2023-11-26T00:43:00.144178Z",
     "start_time": "2023-11-26T00:43:00.134318Z"
    }
   },
   "outputs": [],
   "source": [
    "# #########################\n",
    "# Helper functions\n",
    "# #########################\n",
    "# Text Processeing\n",
    "def load_text(file_path):\n",
    "    with open(file_path, 'r') as file:\n",
    "        return file.read()\n",
    "\n",
    "\n",
    "def save_text(response, output_file):\n",
    "    with open(output_file, 'w') as file:\n",
    "        file.write(response + '\\n')\n",
    "\n",
    "\n",
    "def split_into_chunks(text, tokens=500):\n",
    "    chunks = []\n",
    "\n",
    "    for i in range(0, len(text), tokens):\n",
    "        chunks.append(text[i:i + tokens])\n",
    "\n",
    "    return chunks\n",
    "\n",
    "\n",
    "# OpenAI API Call\n",
    "def call_openai_api(history,\n",
    "                    content,\n",
    "                    model_name: str='gpt-3.5-turbo-16k',\n",
    "                    max_tokens: int=2048,\n",
    "                    stop: str=None,\n",
    "                    temperature: float=0.5):\n",
    "\n",
    "    history.append({'role': 'user',\n",
    "                    'content': content})\n",
    "\n",
    "    response = openai.ChatCompletion.create(\n",
    "        model=model_name,\n",
    "        messages=history,\n",
    "        max_tokens=max_tokens,\n",
    "        stop=stop,\n",
    "        temperature=temperature,\n",
    "    )\n",
    "\n",
    "    return response.choices[0]['message']['content'].strip()\n",
    "\n",
    "\n",
    "# Story Processing\n",
    "def process_story(story_path,\n",
    "                  character_prompt_path,\n",
    "                  storyboard_prompt_path,\n",
    "                  model_name: str='gpt-3.5-turbo-16k',\n",
    "                  max_tokens: int=4096,\n",
    "                  max_tokens_storyboard: int=4096,\n",
    "                  stop: str=None,\n",
    "                  temperature: float=0.5,\n",
    "                  language: str='Chinese'):\n",
    "\n",
    "    story = load_text(story_path)\n",
    "    chunks = split_into_chunks(story)\n",
    "\n",
    "    # Initialize the conversation history\n",
    "    history = [{'role': 'system',\n",
    "                'content': 'You are a helpful assistant.'},\n",
    "               {'role': 'system',\n",
    "                'content': 'Below is the long text provided by the user.'}]\n",
    "\n",
    "    if language != 'English':\n",
    "        history.append({'role': 'user',\n",
    "                        'content': f'Please translate all your responses in {language}'})\n",
    "\n",
    "    # Add each chunk as a user message to history\n",
    "    for chunk in chunks:\n",
    "        history.append({'role': 'user',\n",
    "                        'content': chunk})\n",
    "\n",
    "    character_prompt = load_text(character_prompt_path)\n",
    "    storyboard_prompt = load_text(storyboard_prompt_path)\n",
    "\n",
    "    print('The model is getting the summary.')\n",
    "\n",
    "    # Task 1: Summarize characters\n",
    "    character_summary = call_openai_api(history, character_prompt, model_name,\n",
    "                                        max_tokens, stop, temperature)\n",
    "\n",
    "    # Update the history to include the character summary\n",
    "    history.append({'role': 'assistant',\n",
    "                    'content': character_summary})\n",
    "\n",
    "    print('The model is getting the storyboard script.')\n",
    "\n",
    "    # Task 2: Generate storyboard script\n",
    "    storyboard_script = call_openai_api(history, storyboard_prompt, model_name,\n",
    "                                        max_tokens_storyboard, stop, temperature)\n",
    "\n",
    "    # Save to output file\n",
    "    return character_summary, storyboard_script\n"
   ]
  },
  {
   "cell_type": "code",
   "execution_count": 40,
   "metadata": {
    "ExecuteTime": {
     "end_time": "2023-11-26T00:44:04.578204Z",
     "start_time": "2023-11-26T00:43:00.449022Z"
    }
   },
   "outputs": [
    {
     "name": "stdout",
     "output_type": "stream",
     "text": [
      "The model is getting the summary.\n",
      "The model is getting the storyboard script.\n"
     ]
    }
   ],
   "source": [
    "# #########################\n",
    "# Helper functions\n",
    "# #########################\n",
    "if __name__ == '__main__':\n",
    "    character_summary, storyboard_script = process_story(story_path,\n",
    "                                                         character_prompt_path,\n",
    "                                                         storyboard_prompt_path,\n",
    "                                                         model_name,\n",
    "                                                         max_tokens,\n",
    "                                                         max_tokens_storyboard,\n",
    "                                                         stop,\n",
    "                                                         temperature,\n",
    "                                                         language)\n",
    "    save_text(storyboard_script, storyboard_result_path)\n",
    "    save_text(character_summary, character_result_path)"
   ]
  }
 ],
 "metadata": {
  "kernelspec": {
   "display_name": "game",
   "language": "python",
   "name": "game"
  },
  "language_info": {
   "codemirror_mode": {
    "name": "ipython",
    "version": 3
   },
   "file_extension": ".py",
   "mimetype": "text/x-python",
   "name": "python",
   "nbconvert_exporter": "python",
   "pygments_lexer": "ipython3",
   "version": "3.10.12"
  },
  "varInspector": {
   "cols": {
    "lenName": 16,
    "lenType": 16,
    "lenVar": 40
   },
   "kernels_config": {
    "python": {
     "delete_cmd_postfix": "",
     "delete_cmd_prefix": "del ",
     "library": "var_list.py",
     "varRefreshCmd": "print(var_dic_list())"
    },
    "r": {
     "delete_cmd_postfix": ") ",
     "delete_cmd_prefix": "rm(",
     "library": "var_list.r",
     "varRefreshCmd": "cat(var_dic_list()) "
    }
   },
   "types_to_exclude": [
    "module",
    "function",
    "builtin_function_or_method",
    "instance",
    "_Feature"
   ],
   "window_display": false
  }
 },
 "nbformat": 4,
 "nbformat_minor": 4
}
